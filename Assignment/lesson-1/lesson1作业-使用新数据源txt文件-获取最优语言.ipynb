{
 "cells": [
  {
   "cell_type": "markdown",
   "metadata": {},
   "source": [
    "# 编程实践部分\n"
   ]
  },
  {
   "cell_type": "markdown",
   "metadata": {},
   "source": [
    "# 1、生成语言模型"
   ]
  },
  {
   "cell_type": "code",
   "execution_count": 1,
   "metadata": {
    "scrolled": true
   },
   "outputs": [],
   "source": [
    "任意段落 = \"\"\"\n",
    "war = 主语 谓语 动词 宾语\n",
    "主语 = 特朗普 | 老美    \n",
    "谓语 = 使用 代言人 明星活动* 攻击物  \n",
    "攻击物 =苏打水 | 挖掘机 |纸尿裤\n",
    "使用 =  购买|引进|研发\n",
    "代言人 = 佟大为 | 詹姆斯 | 英国威廉王子 | 唐国强| 宾语\n",
    "明星活动*= null|明星活动 明星活动* \n",
    "明星活动= 代言的|赞助的| 投资的\n",
    "动词 = 制裁 | 轰炸 \n",
    "宾语 = 鲁哈尼 | 苏莱曼尼 | 伊朗 | 代言人\n",
    "\"\"\"\n",
    "import random\n",
    "Rchoice=random.choice\n",
    "def create_grammar(grammar_str,split,line_split='\\n'):#将一段话转变为列表形式\n",
    "    grammar={} \n",
    "    for line in grammar_str.split(line_split):#将段落按行进行划分\n",
    "        if not line:continue  #如果不为空\n",
    "        exp,formula=line.split(split)#将每一行划分成左右两部分字符串 \n",
    "        grammar[exp.strip()]=[f.split() for f in formula.split('|')]#将formula字符串划分成生成列表,用expression：formulas组成列表grammar\n",
    "    return grammar\n",
    "\n",
    "def generate(gram, target):#循环取出元素组成新字符串\n",
    "    if target not in gram: return target \n",
    "    expaned = [generate(gram, t) for t in Rchoice(gram[target])]\n",
    "    return ''.join([e if e != '/n' else '\\n' for e in expaned if e != 'null'])\n"
   ]
  },
  {
   "cell_type": "code",
   "execution_count": 2,
   "metadata": {},
   "outputs": [
    {
     "name": "stdout",
     "output_type": "stream",
     "text": [
      "老美引进佟大为投资的赞助的投资的投资的挖掘机制裁佟大为\n",
      "老美购买伊朗代言的投资的纸尿裤轰炸伊朗\n"
     ]
    },
    {
     "data": {
      "text/plain": [
       "['特朗普引进佟大为纸尿裤轰炸苏莱曼尼',\n",
       " '老美购买佟大为赞助的纸尿裤制裁苏莱曼尼',\n",
       " '特朗普购买英国威廉王子苏打水轰炸伊朗',\n",
       " '特朗普研发鲁哈尼挖掘机轰炸伊朗']"
      ]
     },
     "execution_count": 2,
     "metadata": {},
     "output_type": "execute_result"
    }
   ],
   "source": [
    "#生成多条语句\n",
    "def generate_n1(n):\n",
    "    for i in range(n):\n",
    "        print(generate(create_grammar(任意段落, split='='),'war'))\n",
    "generate_n1(2)\n",
    "\n",
    "#另外一种多条语句生成方法\n",
    "def generate_n2(gram,target,n):\n",
    "    result=[]\n",
    "    for i in range(n):\n",
    "        result.append(generate(gram,target))\n",
    "    return result\n",
    "new_gram = create_grammar(任意段落, split='=')\n",
    "generate_n2(new_gram,'war',4)\n"
   ]
  },
  {
   "cell_type": "markdown",
   "metadata": {},
   "source": [
    "# 2、分析辨别"
   ]
  },
  {
   "cell_type": "code",
   "execution_count": 3,
   "metadata": {},
   "outputs": [
    {
     "name": "stdout",
     "output_type": "stream",
     "text": [
      "<class 'pandas.core.frame.DataFrame'>\n"
     ]
    },
    {
     "data": {
      "text/html": [
       "<div>\n",
       "<style scoped>\n",
       "    .dataframe tbody tr th:only-of-type {\n",
       "        vertical-align: middle;\n",
       "    }\n",
       "\n",
       "    .dataframe tbody tr th {\n",
       "        vertical-align: top;\n",
       "    }\n",
       "\n",
       "    .dataframe thead th {\n",
       "        text-align: right;\n",
       "    }\n",
       "</style>\n",
       "<table border=\"1\" class=\"dataframe\">\n",
       "  <thead>\n",
       "    <tr style=\"text-align: right;\">\n",
       "      <th></th>\n",
       "      <th>0</th>\n",
       "    </tr>\n",
       "  </thead>\n",
       "  <tbody>\n",
       "    <tr>\n",
       "      <th>0</th>\n",
       "      <td>0 ++$++ disability-insurance ++$++ 法律要求残疾保险吗？ ...</td>\n",
       "    </tr>\n",
       "    <tr>\n",
       "      <th>1</th>\n",
       "      <td>1 ++$++ life-insurance ++$++ 债权人可以在死后人寿保险吗？ ++...</td>\n",
       "    </tr>\n",
       "    <tr>\n",
       "      <th>2</th>\n",
       "      <td>2 ++$++ renters-insurance ++$++ 旅行者保险有租赁保险吗？ +...</td>\n",
       "    </tr>\n",
       "    <tr>\n",
       "      <th>3</th>\n",
       "      <td>3 ++$++ auto-insurance ++$++ 我可以开一辆没有保险的新车吗？ +...</td>\n",
       "    </tr>\n",
       "    <tr>\n",
       "      <th>4</th>\n",
       "      <td>4 ++$++ life-insurance ++$++ 人寿保险的现金转出价值是否应纳税？...</td>\n",
       "    </tr>\n",
       "  </tbody>\n",
       "</table>\n",
       "</div>"
      ],
      "text/plain": [
       "                                                   0\n",
       "0  0 ++$++ disability-insurance ++$++ 法律要求残疾保险吗？ ...\n",
       "1  1 ++$++ life-insurance ++$++ 债权人可以在死后人寿保险吗？ ++...\n",
       "2  2 ++$++ renters-insurance ++$++ 旅行者保险有租赁保险吗？ +...\n",
       "3  3 ++$++ auto-insurance ++$++ 我可以开一辆没有保险的新车吗？ +...\n",
       "4  4 ++$++ life-insurance ++$++ 人寿保险的现金转出价值是否应纳税？..."
      ]
     },
     "execution_count": 3,
     "metadata": {},
     "output_type": "execute_result"
    }
   ],
   "source": [
    "#读取文件，并将文件内容转化为字符串\n",
    "\n",
    "import pandas as pd#数据预处理和数据分析\n",
    "from pandas import DataFrame as df\n",
    "\n",
    "filename=r\"E:\\NPL学习\\第二章 人工智能引论与思维方法\\第一节人工智能引论之概率模型与语言自动生成模型\\Lecture-01-Syntax-Tree-and-Language-Model.ipynb课程在线准备代码\\train.txt\"\n",
    "#打开文件时，还需要考虑encoding\n",
    "fileread=pd.read_csv(filename,header=None,sep='\\t') #sep='\\n'按行划分，header=None首行不作为属性行\n",
    "print(type(fileread))#<class 'pandas.core.frame.DataFrame'>\n",
    "\n",
    "content=fileread[0].tolist()#将文件内容组成一个列表，一个索引一行\n",
    "content_str=''.join(content)#将列表转化为字符串\n",
    "fileread.head()#不输入数字默认显示文件前五行\n"
   ]
  },
  {
   "cell_type": "code",
   "execution_count": 4,
   "metadata": {},
   "outputs": [],
   "source": [
    "#去除非汉字字符\n",
    "\n",
    "# content_str_new=u\"\"\n",
    "# for i in range(0,len(content_str)):\n",
    "#     if(content_str[i]>=u'\\u4e00' and content_str[i]<=u'\\u9fa5'):\n",
    "#           content_str_new = content_str_new+content_str[i] \n",
    "# print(content_str_new)"
   ]
  },
  {
   "cell_type": "code",
   "execution_count": 5,
   "metadata": {},
   "outputs": [
    {
     "data": {
      "text/plain": [
       "12889"
      ]
     },
     "execution_count": 5,
     "metadata": {},
     "output_type": "execute_result"
    }
   ],
   "source": [
    "#字符清除并生成列表\n",
    "\n",
    "import re#正则表达式\n",
    "def token(string): #去除特殊字符包括空格，留下汉字、英文、数字、下划线组成列表     \n",
    "    return re.findall('\\w+',string)#\\W+大写W结果正好与小写相反\n",
    "#\\s+返回空格组成的列表，\\S+返回非空格组成列表\n",
    "''.join(token(content[0]))#组成一串连续字符\n",
    "content_clean = [''.join(token(str(c)))for c in content]\n",
    "len(content_clean)"
   ]
  },
  {
   "cell_type": "code",
   "execution_count": 6,
   "metadata": {
    "scrolled": true
   },
   "outputs": [
    {
     "name": "stderr",
     "output_type": "stream",
     "text": [
      "Building prefix dict from the default dictionary ...\n",
      "Loading model from cache C:\\Users\\ADMINI~1\\AppData\\Local\\Temp\\jieba.cache\n",
      "Loading model cost 1.011 seconds.\n",
      "Prefix dict has been built successfully.\n"
     ]
    },
    {
     "name": "stdout",
     "output_type": "stream",
     "text": [
      "Counter({' ': 16, '++': 6, '$': 3, '0': 1, 'disability': 1, '-': 1, 'insurance': 1, '法律': 1, '要求': 1, '残疾': 1, '保险': 1, '吗': 1, '？': 1, 'Is': 1, 'Disability': 1, 'Insurance': 1, 'Required': 1, 'By': 1, 'Law': 1, '?': 1})\n"
     ]
    }
   ],
   "source": [
    "#使用jieba库分词\n",
    "\n",
    "import jieba#全模式、精确模式搜索\n",
    "from collections import Counter#计数\n",
    "\n",
    "with_jieba_cut = Counter(jieba.cut(content[0]))#对精确分词结果进行统计计数\n",
    "print(with_jieba_cut)\n",
    "with_jieba_cut.most_common()[:10]#返回计数最多的10个词\n",
    "\n",
    "def cut(string): return list(jieba.cut(string))#精确模式分词函数"
   ]
  },
  {
   "cell_type": "code",
   "execution_count": 25,
   "metadata": {},
   "outputs": [
    {
     "name": "stdout",
     "output_type": "stream",
     "text": [
      "0\n",
      "100\n",
      "200\n",
      "300\n",
      "400\n",
      "500\n",
      "600\n",
      "700\n",
      "800\n",
      "900\n",
      "1000\n",
      "Counter({'\\n': 1001, '保险': 398, '的': 270, '人寿保险': 224, '什么': 223, '吗': 209, '是': 193, '我': 169, '是否': 144, '可以': 143, '健康': 117, '多少': 110, '医疗保险': 109, '汽车保险': 91, '在': 85, '如何': 80, '覆盖': 79, '你': 72, '残疾': 60, '有': 59, '房主': 54, '需要': 53, '谁': 49, '家庭': 43, '长期': 43, '获得': 42, '为什么': 39, '护理': 38, '购买': 37, '计划': 36, '退休': 31, '涵盖': 30, '支付': 29, '应该': 29, '得到': 25, '租客': 25, '中': 24, '没有': 23, '时候': 23, '如果': 22, '一个': 22, '年金': 22, '您': 21, '何时': 21, '租赁': 20, '会': 20, '哪里': 20, '提供': 19, '能': 19, '工作': 18, '为': 18, '保险费用': 18, '汽车': 18, '全': 17, '人寿': 17, '租金': 17, '公司': 17, '年': 16, '从': 16, '部分': 15, '和': 15, '最好': 15, '钱': 15, '便宜': 15, '了': 15, '政策': 15, '对': 14, '影响': 13, '好': 13, '费用': 13, '要求': 12, '现金': 11, '盖': 11, '注册': 11, '要': 11, '最佳': 11, 'Medigap': 11, '时': 11, '买': 10, '多长时间': 10, '最': 10, '岁': 10, '保险公司': 10, '金': 9, '保险费': 9, '成本': 9, '医疗': 9, '人': 9, '被': 9, '优势': 9, '取消': 9, 'B': 8, '短期': 8, '检查': 8, '使用': 8, '增加': 8, '选择': 8, '上': 8, '扣除': 8, '资格': 8, '能否': 7, '私人': 7, '雇主': 7, '多': 7, '发生': 7, '与': 7, '多久': 7, '国家': 7, '将': 7, '父母': 7, '知道': 7, '代理人': 7, '怎么办': 7, '医疗保健': 7, '在线': 7, '后': 6, '价值': 6, '包括': 6, '盗窃': 6, '由': 6, '不': 6, '符合': 6, '信用': 6, '屋顶': 6, 'D': 6, '孩子': 6, '类型': 6, '意思': 6, 'Medicare': 6, '疾病': 6, '我们': 6, '报价': 6, '纳税': 5, '失去': 5, '财产': 5, '索赔': 5, '哪个': 5, '更': 5, '年龄': 5, '计算': 5, '驾驶': 5, '申请': 5, '拥有': 5, '用于': 5, '定期': 5, '才能': 5, '作为': 5, '测试': 5, '个人': 5, '罚款': 5, '信托': 5, '开始': 5, '投资': 5, '好处': 5, '被盗': 5, '做': 5, '出售': 5, '一辆': 4, '应': 4, '报告': 4, '房屋': 4, '通常': 4, '401K': 4, '用': 4, '重要': 4, '必须': 4, '福利': 4, '考虑': 4, '车': 4, '车库': 4, '哪些': 4, '去': 4, '确定': 4, '期限': 4, '平均': 4, '意味着': 4, '可变': 4, '受益人': 4, '租车': 4, '当': 4, '公寓': 4, '区别': 4, '上涨': 4, '血液': 4, '运作': 4, '癌症': 4, '任何': 4, '或': 4, '损害': 4, '损坏': 4, '普遍': 4, '基本': 4, '药物': 4, '两个': 4, '合格': 4, '到': 4, '严重': 4, '法律': 3, '债权人': 3, '死': 3, '新车': 3, '接受': 3, '乳腺癌': 3, '生命': 3, '固定': 3, '向': 3, '俄亥俄州': 3, '清除': 3, '死亡': 3, '保险费率': 3, '人身保险': 3, '找出': 3, '吸烟': 3, '找到': 3, '目的': 3, '现在': 3, '共同': 3, '资产': 3, '足够': 3, '骑手': 3, '适用': 3, '抵押': 3, '医生': 3, '条件': 3, '卖': 3, '承担': 3, '让': 3, '昂贵': 3, '成为': 3, '农场': 3, '寿险': 3, '火灾': 3, '退出': 3, '许可证': 3, '时会': 3, '通过': 3, '司机': 3, '什么样': 3, '补充': 3, '切换': 3, '值得': 3, '否认': 3, '金额': 3, '更好': 3, '身上': 3, '想要': 3, '信息': 3, '主要': 3, '有人': 3, '认为': 3, '房东': 3, '费': 3, '泄漏': 3, '都': 3, '另': 3, '这么': 3, '宾夕法尼亚州': 3, '自己': 3, '旅行者': 2, '开': 2, '收入': 2, '结婚戒指': 2, '风险': 2, '男朋友': 2, '提交': 2, '车祸': 2, '伊斯兰教': 2, '已经': 2, '优点': 2, '缺点': 2, '哪种': 2, '筛查': 2, '安全': 2, 'HSA': 2, '收取': 2, '超声波': 2, '年期': 2, '把': 2, '丙型肝炎': 2, 'A': 2, '租用': 2, '受益': 2, 'MedicareB': 2, '储蓄': 2, '不同': 2, '呢': 2, '养老院': 2, '新泽西州': 2, '哪家': 2, '税收': 2, '停止': 2, '实行': 2, '跑车': 2, '付钱': 2, '不好': 2, '伟大': 2, '结束': 2, '联邦': 2, '于': 2, '花费': 2, '存在': 2, '联邦政府': 2, '残疾人': 2, '大': 2, '收到': 2, '年轻': 2, '可否': 2, '强制性': 2, '结婚': 2, '保险金': 2, '事故': 2, '房地产': 2, '有限责任': 2, '面值': 2, '投降': 2, '高': 2, '费率': 2, '进行': 2, '更高': 2, '问题': 2, '必要': 2, '进入': 2, '时要': 2, '注意': 2, '65': 2, '纽约': 2, '幸存者': 2, '排除': 2, '率': 2, '记录': 2, '赔偿': 2, '缴纳': 2, '税款': 2, '整形术': 2, '合适': 2, 'STD': 2, '限制': 2, '超声': 2, '心动图': 2, '自由': 2, '具有': 2, '集体': 2, '水': 2, '搬家': 2, '妻子': 2, '覆盖面': 2, '给': 2, '来说': 2, '牙科': 2, '生活': 2, '设立': 2, '主意': 2, '酒精中毒': 2, '伊利诺伊州': 2, '自行车': 2, '保持': 2, '单身': 2, '廉价': 2, '合法': 2, '社会保障': 2, '人们': 2, '随时': 2, '法定': 2, '兑现': 2, '每个': 2, '成形术': 2, '集团': 2, '遇到': 2, '良好': 2, '补贴': 2, '军人': 2, '手机': 2, '真的': 2, '眼镜': 2, '儿童': 2, '替代': 2, '告诉': 2, '相关': 2, '失业': 2, '即时': 2, '眼镜蛇': 2, '寻找': 2, '住房': 2, '放弃': 2, '不能': 2, '贷款': 2, '怎么': 2, '老年': 2, '不可': 2, '撤销': 2, '免费': 2, '密歇根州': 2, '卖年': 2, '以上': 2, '通知': 2, '终身': 2, '关键': 2, '销售': 2, '丈夫': 2, '全面': 2, '池': 2, '参加': 2, '赔额': 2, '馅饼': 2, '车辆': 2, '造成': 2, '有效': 2, '美国': 2, '整个': 2, '0disabilityinsurance': 1, 'IsDisabilityInsuranceRequiredByLaw': 1, '1lifeinsurance': 1, 'CanCreditorsTakeLifeInsuranceAfterDeath': 1, '2rentersinsurance': 1, 'DoesTravelersInsuranceHaveRentersInsurance': 1, '3autoinsurance': 1, 'CanIDriveANewCarHomeWithoutInsurance': 1, '4lifeinsurance': 1, '转': 1, '出': 1, 'IsTheCashSurrenderValueOfLifeInsuranceTaxable': 1, '5annuities': 1, 'HowIsAnnuityIncomeReported': 1, '6homeinsuranceAAA': 1, 'WhatDoesAAAHomeInsuranceCover': 1, '7retirementplans': 1, '简单': 1, 'WhatIsASimpleRetirementPlan': 1, '8disabilityinsurance': 1, '社会保险': 1, 'WhatDoesSocialSecurityDisabilityInsuranceCover': 1, '9autoinsurance': 1, '预付': 1, 'IsCarInsurancePrepaid': 1, '10medicareinsurance': 1, 'WhatDoesMedicarePartBCover': 1, '11lifeinsurance': 1, '退伍军人': 1, 'CanVeteransGetLifeInsurance': 1, '12homeinsurance': 1, 'DoesMyHomeownersInsuranceCoverLostWeddingRing': 1, '13autoinsurance': 1, '分配': 1, 'HowDoesAssignedRiskAutoInsuranceWork': 1, '14autoinsurance': 1, '加': 1, 'CanMyBoyfriendAddMeToHisCarInsurance': 1, '15autoinsurance': 1, '警察': 1, 'DoINeedAPoliceReportToSubmitAClaimForACarAccidentOnPrivateProperty': 1, '16autoinsurance': 1, '修理': 1, 'DoesFullCoverageAutoInsuranceCoverRepairs': 1, '17lifeinsurance': 1, '人生': 1, 'IsLifeInsuranceAcceptableInIslam': 1, '18healthinsurance': 1, '管道': 1, '逆转': 1, 'WillHealthInsuranceCoverATubalReversal': 1, '19lifeinsurance': 1, '诊断': 1, '多大': 1, 'HowMuchLifeInsuranceCanYouGetIfYouHaveBeenDiagnosedWithBreastCancer': 1, '20medicareinsurance': 1, 'WhatDoINeedToRegisterForMedicare': 1, '21disabilityinsurance': 1, 'DoesShortTermDisabilityInsuranceWork': 1, '22homeinsurance': 1, '盖池': 1, 'WillHomeownersInsuranceCoverPool': 1, '23medicareinsurance': 1, 'WhenDoIHaveToSignUpForMedicare': 1, '24autoinsuranceMIP': 1, 'WillAnMIPAffectMyCarInsurance': 1, '25lifeinsurance': 1, '蓝': 1, '十字': 1, '蓝盾': 1, 'DoesBlueCrossBlueShieldHaveLifeInsurance': 1, '26longtermcareinsurance': 1, 'WhatAreTheAdvantagesAndDisadvantagesToLongTermCareInsurance': 1, '27medicareinsurance': 1, '预警': 1, 'WillMedicarePayForLifeAlert': 1, '28lifeinsurance': 1, 'WhichLifeInsuranceShouldIBuy': 1, '29medicareinsurance': 1, 'HPV': 1, 'DoesMedicarePayForHPVScreening': 1, '30lifeinsurance': 1, 'WhichIsTheBestLifeInsuranceToGet': 1, '31longtermcareinsurance': 1, 'HowMuchShouldLongTermCareInsuranceCost': 1, '32annuities': 1, 'HowSafeAreFixedAnnuities': 1, '33lifeinsurance': 1, '解决': 1, 'HowLongDoesItTakeToSettleALifeInsuranceClaim': 1, '34autoinsurance': 1, '信贷': 1, 'IsCarInsuranceCreditChecked': 1, '35longtermcareinsurance': 1, 'CanIUseHSAToPayForLongTermCareInsurance': 1, '36healthinsurance': 1, '吸烟者': 1, 'CanEmployersChargeSmokersMoreForHealthInsurance': 1, '37homeinsurance': 1, '所有权': 1, 'WhatDoesHomeOwnersInsuranceUsuallyCover': 1, '38healthinsurance': 1, 'HowMuchDoesAnUltrasoundCostWithoutHealthInsurance': 1, '39lifeinsurance': 1, '10': 1, 'WhatIs10YrTermLifeInsurance': 1, '40retirementplans': 1, '放在': 1, 'RothIRACanYouPutMoneyInA401KAndARothIRA': 1, '41healthinsurance': 1, 'CanIGetHealthInsuranceWithHepatitisC': 1, '42medicareinsurance': 1, 'WhenCanIEnrollInMedicarePartA': 1, '43healthinsurance': 1, '起源': 1, 'WhenDidHealthInsuranceOriginate': 1, '44healthinsurance': 1, 'HowImportantIsHealthCareInsurance': 1, '45rentersinsurance': 1, 'HowMuchDoesItCostToGetRentersInsurance': 1, '46homeinsurance': 1, 'DoesMyHomeInsuranceCoverTheft': 1, '47rentersinsurance': 1, '租户': 1, '业主': 1, 'HowDoesRentersInsuranceBenefitTheLandlord': 1, '48healthinsurance': 1, 'DoOhioEmployersHaveToOfferHealthInsurance': 1, '49autoinsurance': 1, 'HowMuchAutoInsuranceShouldIHave': 1, '50homeinsurance': 1, 'WhyDoesHomeownersInsuranceIncrease': 1, '51medicareinsurance': 1, '医保': 1, 'WhoCanBuyMedicare': 1, '52medicareinsurance': 1, 'HowToRemoveMedicarePartB': 1, '53longtermcareinsurance': 1, 'AtWhatAgeShouldIGetLongTermCareInsurance': 1, '54lifeinsurance': 1, 'WhenAreLifeInsuranceDeathBenefitsTaxable': 1, '55medicareinsurance': 1, 'WhatAreMedicareSavingsPrograms': 1, '56homeinsurance': 1, '其他': 1, '狗盖': 1, '狗': 1, '叮咬': 1, 'DoesHomeownersInsuranceCoverDogBitesToOtherDogs': 1, '57medicareinsurance': 1, 'WhatDoesMedicarePlanACover': 1, '58lifeinsurance': 1, 'IsWholeLifeInsuranceAGoodOption': 1, '59healthinsurance': 1, '数额': 1, 'CanEmployersContributeDifferentAmountsHealthInsurance': 1, '60medicareinsurance': 1, '将来': 1, 'WhatWillHappenToMedicareInTheFuture': 1, '61lifeinsurance': 1, '一般': 1, 'CanTheGeneralLifeInsurance': 1, '62autoinsurance': 1, '机票': 1, 'WillMyAutoInsuranceGoUpIfGetTicket': 1, '63rentersinsurance': 1, 'DoesRentersInsuranceIncludeTheft': 1, '64rentersinsurance': 1, 'WhatIsARentersInsurancePolicy': 1, '65homeinsurance': 1, 'HowIsHomeInsuranceCalculated': 1, '66homeinsurance': 1, '下水道': 1, '维修': 1, 'DoesHomeownersInsuranceCoverSewerRepair': 1, '67longtermcareinsuranceAARP': 1, 'DoesAARPHaveLongTermCareInsurance': 1, '68disabilityinsurance': 1, 'IsShortTermDisabilityConsideredHealthInsurance': 1, '69lifeinsurance': 1, 'AtWhatAgeShouldYouGetLifeInsurance': 1, '70homeinsurance': 1, 'IsTravelersHomeInsuranceAnyGood': 1, '71medicareinsurance': 1, 'WhoCanGetOnMedicare': 1, '72rentersinsurance': 1, '优惠': 1, 'WhoHasTheBestRatesForRentersInsurance': 1, '73autoinsurance': 1, 'WhoCanDriveYourCarUnderYourInsurance': 1, '74medicareinsurance': 1, 'CanMedicarePayForNursingHomes': 1, '75autoinsurance': 1, '失败': 1, 'WhatHappensIfCarInsuranceLapses': 1, '76homeinsurance': 1, '门': 1, 'IsGarageDoorCoveredByHomeownersInsurance': 1, '77medicareinsurance': 1, 'WhereDoISignUpForMedicare': 1, '78autoinsurance': 1, '交易': 1, 'HowToGetTheBestDealOnAutoInsurance': 1, '79medicareinsurance': 1, 'MedicarePartDHowDoYouApplyForMedicarePartDInNewJersey': 1, '80rentersinsurance': 1, 'WhichCompanyOffersTheBestRentersInsurance': 1, '81lifeinsurance': 1, '特点': 1, 'WhatAreSomeCharacteristicsOfWholeLifeInsurance': 1, '82annuities': 1, '金种': 1, '现金流': 1, 'WhatIsAnnuityKindOfCashFlow': 1, '83lifeinsurance': 1, 'CanYouGetLifeInsuranceAfterBreastCancer': 1, '84autoinsurance': 1, 'HowToFigureOutHowMuchCarInsuranceWillBe': 1, '85retirementplans': 1, '401KHowToPlanForRetirementWithA401K': 1, '86healthinsurance': 1, '奥巴马': 1, '减免': 1, 'WhatIsTheTaxPenaltyForNotHavingHealthInsuranceUnderObamacare': 1, '87medicareinsurance': 1, 'CanYouLoseMedicareBenefits': 1, '88homeinsurance': 1, '损失': 1, '钻石': 1, 'WillHomeownersInsuranceCoverALostDiamond': 1, '89longtermcareinsurance': 1, 'HowMuchDoLongTermCareInsurancePoliciesCost': 1, '90lifeinsurance': 1, 'WhenShouldIStopPayingForLifeInsurance': 1, '91medicareinsurance': 1, 'WhatAgeDoYouGoOnMedicare': 1, '92lifeinsurance': 1, 'HowCanLifeInsuranceCompaniesTellIfYouAreASmoker': 1, '93longtermcareinsurance': 1, 'HowToDetermineIfYouNeedLongTermCareInsurance': 1, '94autoinsurance': 1, '制造': 1, 'WhoMadeCarInsuranceMandatory': 1, '95lifeinsurance': 1, 'WhenShouldIGetTermLifeInsurance': 1, '96autoinsurance': 1, '关系': 1, 'WhatDoesCreditHaveToDoWithAutoInsurance': 1, '97homeinsurance': 1, '更换': 1, 'WillHomeInsurancePayForRoofReplacement': 1, '98autoinsurance': 1, 'WhoHasTheBestAndCheapestCarInsurance': 1, '99autoinsurance': 1, '租': 1, 'CanYouRentAUhaulWithCarInsurance': 1, '100homeinsurance': 1, 'WhatsCoveredInHomeownersInsurance': 1, '101longtermcareinsurance': 1, '母亲': 1, 'CanIBuyLongTermCareInsuranceForMyMother': 1, '102lifeinsurance': 1, '完全': 1, 'WhatIsAFullyPaidUpLifeInsurancePolicy': 1, '103lifeinsurance': 1, '高血压': 1, 'CanIGetLifeInsuranceWithHypertension': 1, '104rentersinsurance': 1, 'HowToFindGoodRentersInsurance': 1, '105autoinsurance': 1, 'WhatIsConsideredASportsCarForInsurancePurposes': 1, '106homeinsurance': 1, 'WhatIsCoveredUnderHomeInsurance': 1, '107retirementplans': 1, '重新': 1, 'WhyIsItImportantToPlanForRetirementNow': 1, '108autoinsurance': 1, 'WhyDoGuysPayMoreForCarInsurance': 1, '109homeinsurance': 1, '移动': 1, 'HowCheapIsMobileHomeInsurance': 1, '110lifeinsurance': 1, 'CanIGetLifeInsuranceAfterBreastCancer': 1, '111disabilityinsurance': 1, 'HowManyPeopleUseDisabilityInsurance': 1, '112autoinsurance': 1, 'WhoIsCoveredUnderYourAutoInsurance': 1, '113medicareinsurance': 1, 'WhatIsAMedigapPlan': 1, '114healthinsurance': 1, 'HowToAddADependentToHealthInsurance': 1, '115disabilityinsurance': 1, 'HowLongDoesLongTermDisabilityInsuranceLast': 1, '116lifeinsurance': 1, 'IsWholeLifeInsuranceBad': 1, '117autoinsurance': 1, '犹他州': 1, '车险': 1, 'WhatIsTheAverageCarInsuranceRateInUtah': 1, '118lifeinsurance': 1, '西方': 1, '旅游': 1, 'DoesGreatWestLifeCoverTravelInsurance': 1, '119lifeinsurance': 1, '特定': 1, 'DoesTermLifeInsuranceEndAtACertainAge': 1, '120homeinsurance': 1, '火器': 1, 'DoesHomeownersInsuranceCoverFirearms': 1, '121retirementplans': 1, '基金': 1, '净值': 1, 'WhatIsNetAssetValueOfAMutualFund': 1, '122healthinsurance': 1, 'WhichStatesHaveTheBestHealthInsurance': 1, '123retirementplans': 1, 'WhyIsItImportantToPlanForRetirement': 1, '124disabilityinsurance': 1, 'HowMuchDisabilityInsuranceIsEnough': 1, '125lifeinsurance': 1, 'WhatDoesRiderMeanInLifeInsurance': 1, '126longtermcareinsurance': 1, 'HowMuchDoYouPayForLongTermCareInsurance': 1, '127rentersinsurance': 1, 'WhatCanIClaimOnRentersInsurance': 1, '128healthinsurance': 1, '额定值': 1, 'WhatDoesHealthInsuranceRatedMean': 1, '129lifeinsurance': 1, '期望': 1, '回报': 1, 'HowWouldYouCalculateTheExpectedReturnOnALifeInsurancePolicy': 1, '130autoinsurance': 1, '驾照': 1, 'CanIGetAutoInsuranceWithoutADriverLicense': 1, '131medicareinsurance': 1, 'WhenIsAPersonEligibleForMedicarePartD': 1, '132autoinsurance': 1, 'IsAutoInsuranceAFederalRequirement': 1, '133autoinsurance': 1, '不良': 1, 'CanYouGetAutoInsuranceWithBadCredit': 1, '134lifeinsuranceHIPPA': 1, 'DoesHIPPAApplyToLifeInsuranceCompanies': 1, '135autoinsuranceDUI': 1, 'HowMuchDoesAutoInsuranceCostAfterADUI': 1, '136homeinsurance': 1, 'HowMuchIsInsuranceWhenBuyingAHome': 1, '137medicareinsurance': 1, 'WhatIsTheMedigapPolicy': 1, '138rentersinsurance': 1, '订婚戒指': 1, 'DoesRentersInsuranceCoverALostEngagementRing': 1, '139medicareinsuranceObamacare': 1, 'MedigapDoesObamacareCoverMedigap': 1, '140rentersinsurance': 1, '全国': 1, 'HowMuchIsNationwideRentersInsurance': 1, '141lifeinsurance': 1, '卖出': 1, 'WhoSellsMortgageLifeInsurance': 1, '142lifeinsurance': 1, '跳伞': 1, 'DoesMyLifeInsuranceCoverSkydiving': 1, '143healthinsurance': 1, '皮肤': 1, '手术': 1, 'DoesHealthInsuranceCoverSkinRemovalSurgery': 1, '144healthinsurance': 1, '皮肤科': 1, 'HowMuchDoesItCostToSeeADermatologistWithoutHealthInsurance': 1, '145healthinsurance': 1, '预先': 1, 'WhereToGetHealthInsuranceWithAPreexistingCondition': 1, '146lifeinsurance': 1, 'USAA': 1, 'DoesUSAASellLifeInsurance': 1, '147disabilityinsurance': 1, 'DoesTheFederalGovernmentHaveDisabilityInsurance': 1, '148lifeinsurance': 1, '股': 1, 'WhatIsALifeInsuranceUnit': 1, '149disabilityinsurance': 1, '平均水平': 1, 'HowMuchIsDisabilityInsuranceOnAverage': 1, '150lifeinsurance': 1, 'CanYouSurrenderALifeInsurancePolicy': 1, '151lifeinsurance': 1, 'IsLifeInsuranceConsideredIncome': 1, '152disabilityinsurance': 1, 'WhenShouldIGetDisabilityInsurance': 1, '153rentersinsurance': 1, 'HowMuchDoesItCostForRentersInsurance': 1, '154autoinsurance': 1, '新罕布什尔州': 1, 'DoesNewHampshireRequireAutoInsurance': 1, '155disabilityinsurance': 1, '工资': 1, 'HowMuchOfYourSalaryIsCoveredByDisabilityInsurance': 1, '156medicareinsurance': 1, '药店': 1, 'WhichPharmaciesAcceptMedicare': 1, '157autoinsurance': 1, 'HowLongWillItTakeToGetCarInsurance': 1, '158medicareinsurance': 1, 'WhatIsMedicareHospice': 1, '159lifeinsurance': 1, 'HowDoYouDetermineCashValueOfTermLifeInsurancePolicy': 1, '160lifeinsurance': 1, '葬礼': 1, 'DoesLifeInsurancePayForYourFuneral': 1, '161healthinsurance': 1, 'HowLongCanYouKeepAChildOnYourHealthInsurance': 1, '162healthinsurance': 1, '税': 1, 'WhenIsHealthInsuranceTaxDeductible': 1, '163annuitiesSuzeOrman': 1, '说': 1, 'WhatDoesSuzeOrmanSayAboutVariableAnnuities': 1, '164healthinsurance': 1, 'Fsa': 1, 'CanIPayHealthInsurancePremiumsWithFsa': 1, '165medicareinsurance': 1, '沃尔玛': 1, 'DoesWalmartTakeMedicare': 1, '166autoinsurance': 1, '转移': 1, 'CanAutoInsuranceBeTransferred': 1, '167autoinsurance': 1, 'SR22': 1, 'WhatDoesSR22InsuranceCover': 1, '168autoinsurance': 1, 'CanIGetCarInsuranceWithoutAJob': 1, '169healthinsurance': 1, '经常': 1, 'HowOftenDoYouPayHealthInsurance': 1, '170lifeinsurance': 1, 'WhenDoesTheBeneficiaryCollectFromALifeInsurancePolicy': 1, '171autoinsurance': 1, 'IfIDontHaveAutoInsuranceCanIRentACar': 1, '172medicareinsurance': 1, '救护车': 1, 'DoesMedicarePayForAmbulanceRides': 1, '173homeinsurance': 1, '保修': 1, 'WhenIsHomeWarrantyInsuranceRequired': 1, '174homeinsurance': 1, '烟囱': 1, 'DoesHomeInsuranceCoverYourChimney': 1, '175lifeinsurance': 1, 'HowMuchLifeInsuranceDoINeed': 1, '176homeinsurance': 1, '财产保险': 1, '相同': 1, 'IsPropertyInsuranceTheSameAsHomeownersInsurance': 1, '177lifeinsurance': 1, 'IsLifeInsuranceCheaperToBuyWhenYouAreYounger': 1, '178disabilityinsuranceAflac': 1, 'DoesAflacOfferShortTermDisabilityInsurance': 1, '179disabilityinsurance': 1, 'DoesLongTermDisabilityCoverMedicalInsurance': 1, '180homeinsurance': 1, 'WhatDoesLossOfUseMeanForHomeownersInsurance': 1, '181autoinsurance': 1, 'DoesCarInsuranceGoOnYourCreditReport': 1, '182autoinsurance': 1, 'HowToDriveANewCarHomeWithoutInsurance': 1, '183autoinsurance': 1, '那么': 1, 'WhyIsAutoInsuranceSoExpensiveInOhio': 1, '184disabilityinsurance': 1, '南卡罗来纳州': 1, 'DoINeedDisabilityInsuranceInSouthCarolina': 1, '185rentersinsurance': 1, '大楼': 1, '其': 1, '保单': 1, '持有人': 1, 'Cananapartmentcomplexrequireyoutoaddthemasacopolicyholderonyourrentersinsurance': 1, '186medicareinsurance': 1, '要花费': 1, 'WhatIsMedicareGoingToCostMe': 1, '187medicareinsurance': 1, 'Hyoscyamine': 1, 'IsHyoscyamineCoveredByMedicarePartD': 1, '188longtermcareinsurance': 1, 'HowMuchDoesLongTermCareInsuranceCostOnAverage': 1, '189medicareinsurance': 1, 'IVF': 1, 'HowMuchDoesMedicarePayForIVF': 1, '190medicareinsurance': 1, '补助金': 1, 'WhatIsTheDifferenceInMedicareAndMedicaid': 1, '191lifeinsurance': 1, 'HowMuchWillLifeInsurancePayout': 1, '192disabilityinsurance': 1, 'WhyDoYouNeedDisabilityInsurance': 1, '193healthinsurance': 1, 'WhenDoesHealthInsuranceBecomeMandatory': 1, '194autoinsurance': 1, 'DoesGettingMarriedAffectAutoInsurance': 1, '195medicareinsurance': 1, '2014': 1, 'WillTheCostOfMedicareGoUpIn2014': 1, '196autoinsurance': 1, 'HowLongDoesCarInsuranceLast': 1, '197homeinsuranceAAA': 1, 'IsAAAHomeInsuranceAnyGood': 1, '198autoinsurance': 1, 'CanIKeepInsuranceMoneyFromCarAccident': 1, '199autoinsurance': 1, '监狱': 1, 'CanYouGoToJailForHavingNoCarInsurance': 1, '200healthinsurance': 1, '经纪人': 1, 'CanYouGetHealthInsuranceAsARealEstateAgent': 1, '201medicareinsurance': 1, '开放注册': 1, 'WhenIsOpenEnrollmentForMedigapPolicies': 1, '202medicareinsurance': 1, 'WhenToUseMedicare': 1, '203retirementplans': 1, 'CanAnLLCHaveARetirementPlan': 1, '204autoinsurance': 1, '福特': 1, '野马': 1, 'HowMuchWouldCarInsuranceCostForAFordMustang': 1, '205autoinsurance': 1, '车上': 1, '一棵树': 1, 'WillInsuranceCoverATreeFallingOnMyCar': 1, '206lifeinsurance': 1, 'WhatIsTheFaceValueOfATermLifeInsurancePolicy': 1, '207lifeinsurance': 1, '安联': 1, 'WhatIsAllianzLifeInsurance': 1, '208lifeinsurance': 1, 'WhatIsCashSurrenderValueInLifeInsurance': 1, '209rentersinsurance': 1, 'DoesRentersInsuranceCoverGarageTheft': 1, '210lifeinsurance': 1, '胆固醇': 1, 'DoesHighCholesterolAffectLifeInsuranceRates': 1, '211medicareinsurance': 1, '疼痛': 1, '泵': 1, 'WillMedicarePayForAPainPump': 1, '212lifeinsurance': 1, 'WhatAreTheTypesOfLifeInsurancePolicies': 1, '213lifeinsurance': 1, 'THC': 1, 'DoesStateFarmLifeInsuranceTestForTHC': 1, '214healthinsurance': 1, 'WhereCanIBuyHealthInsuranceForAnIndividual': 1, '215medicareinsurance': 1, '消失': 1, 'WhenCanYouDisenrollFromAMedicareAdvantagePlan': 1, '216lifeinsurance': 1, 'DoesLifeInsuranceGoToEstate': 1, '217rentersinsurance': 1, '啮齿动物': 1, '损伤': 1, 'DoesRentersInsuranceCoverRodentDamage': 1, '218retirementplans': 1, '提款': 1, 'WhenICanWithdrawMoneyFromMy401K': 1, '219rentersinsurance': 1, 'CanAnApartmentForceYouToHaveRentersInsurance': 1, '220medicareinsuranceMedigap': 1, '眼睛': 1, 'DoesMedigapCoverEyeExams': 1, '221homeinsurance': 1, '地方': 1, 'WhereIsTheBestPlaceToGetHomeownersInsurance': 1, '222lifeinsurance': 1, '期满': 1, 'WhatDoesLifeInsuranceMaturityMean': 1, '223rentersinsurance': 1, '踏板车': 1, 'DoesRentersInsuranceCoverScooters': 1, '224homeinsurance': 1, '包裹': 1, '食物': 1, 'WillHomeownersInsuranceCoverSpoiledFood': 1, '225homeinsurance': 1, 'Doeshomeinsurancecoverfire': 1, '226healthinsurance': 1, 'WhenYouQuitYourJobDoesHealthInsuranceStop': 1, '227autoinsurance': 1, '停车': 1, 'CanYouBuyCarInsuranceWithASuspendedLicense': 1, '228lifeinsurance': 1, 'WhyDoesLifeInsuranceCostMoreForMen': 1, '229lifeinsurance': 1, '养老': 1, 'WhatIsAEndowmentPlanInLifeInsurance': 1, '230lifeinsurance': 1, '老年人': 1, 'HowMuchDoesLifeInsuranceCostForSeniors': 1, '231homeinsurance': 1, 'WhenToUseYourHomeInsurance': 1, '232homeinsurance': 1, '基金会': 1, 'DoesHomeownersInsuranceCoverFoundationIssues': 1, '233lifeinsurance': 1, 'WhatHappensWhenICancelLifeInsurance': 1, '234lifeinsurance': 1, 'WhatHappensIfICancelALifeInsurancePolicy': 1, '235disabilityinsurance': 1, 'HowNecessaryIsDisabilityInsurance': 1, '236lifeinsurance': 1, 'Aetna': 1, 'WhatIsAetnaLifeInsurance': 1, '237healthinsurance': 1, 'HowCanIAffordHealthInsurance': 1, '238rentersinsurance': 1, 'WhatWillRentersInsuranceNotCover': 1, '239lifeinsurance': 1, 'WhenDoesLifeInsuranceKickIn': 1, '240autoinsurance': 1, 'WhatIsTheFineForNoCarInsurance': 1, '241rentersinsurance': 1, 'DoesRentersInsuranceCoverMyGarage': 1, '242lifeinsurance': 1, 'FAFSADoesLifeInsuranceAffectFAFSA': 1, '243autoinsurance': 1, '非法': 1, '移民': 1, 'CanAnIllegalImmigrantGetCarInsurance': 1, '244homeinsurance': 1, '水泵': 1, 'DoesHomeownersInsuranceCoverSumpPumps': 1, '245healthinsurance': 1, 'WhatToLookForWhenPurchasingHealthInsurance': 1, '246homeinsurance': 1, '地下水': 1, 'DoesHomeownersInsuranceCoverGroundwater': 1, '247autoinsurance': 1, '电话': 1, 'CanYouGetAutoInsuranceOverThePhone': 1, '248medicareinsurance': 1, 'IsMedicareConsideredWelfare': 1, '249medicareinsurance': 1, 'IsItMandatoryToApplyForMedicareAt65': 1, '250retirementplans': 1, '基于': 1, '公式': 1, 'WhatTypeOfRetirementPlanIsBasedOnAFormula': 1, '251lifeinsurance': 1, '提到': 1, 'WhatHappensIfILieOnALifeInsuranceApplication': 1, '252lifeinsurance': 1, '病历': 1, 'CanLifeInsuranceCompaniesCheckMedicalRecords': 1, '253lifeinsuranceDUI': 1, 'HowLongDoesADUIAffectLifeInsurance': 1, '254longtermcareinsurance': 1, 'WhatDoesLongTermCareInsuranceMean': 1, '255retirementplans': 1, 'WhatIsCoveredByARetirementPlanAtWork': 1, '256autoinsurance': 1, 'HowMuchIsCarInsuranceInNY': 1, '257retirementplans': 1, 'WhyShouldYouHaveARetirementPlan': 1, '258disabilityinsurance': 1, '孕产妇': 1, 'DoesShortTermDisabilityInsuranceCoverMaternity': 1, '259healthinsurance': 1, '离职': 1, 'WhenDoesHealthInsuranceEndWhenLeavingAJob': 1, '260lifeinsurance': 1, 'DoesLifeInsuranceGetTaxedAtPayout': 1, '261autoinsurance': 1, '新': 1, 'WhoIsTheCheapestCarInsuranceForNewDrivers': 1, '262medicareinsuranceMedigap': 1, 'WhatDoesMedigapPayFor': 1, '263autoinsurance': 1, '男士': 1, 'WhyIsMensCarInsuranceHigher': 1, '264autoinsurance': 1, '企业': 1, 'CanIRentACarFromEnterpriseWithoutInsurance': 1, '265autoinsurance': 1, '能放': 1, 'CanCarInsuranceCompaniesDropYou': 1, '266healthinsurance': 1, 'WhatIsLongTermHealthInsurance': 1, '267homeinsurance': 1, 'IsHomeownersInsuranceIncreasing': 1, '268retirementplans': 1, 'WhatIsARetirementPlanFiduciary': 1, '269lifeinsurance': 1, '提取': 1, 'HowToWithdrawCashValueFromLifeInsurancePolicy': 1, '270disabilityinsurance': 1, 'WhatIsRetirementSurvivorsAndDisabilityInsurance': 1, '271annuities': 1, 'WhatIsTheExclusionRatioInAnnuities': 1, '272disabilityinsurance': 1, 'WhatDoesDisabilityInsuranceMean': 1, '273annuities': 1, '转入': 1, 'CanAnAnnuityBeRolledIntoA401K': 1, '274medicareinsurance': 1, '减少': 1, 'CanYouClaimABreastReductionOnMedicare': 1, '275homeinsurance': 1, '漏水': 1, 'WillMyHomeownersInsuranceCoverALeakyRoof': 1, '276medicareinsurance': 1, 'WhenDoesMedicareCoverBloodTests': 1, '277lifeinsurance': 1, '访问': 1, 'CanLifeInsuranceCompaniesAccessMedicalRecords': 1, '278lifeinsurance20': 1, 'HowMuchIsTermLifeInsuranceFor20Years': 1, '279lifeinsurance': 1, 'WhatIsTheTermOfLifeInsurance': 1, '280homeinsurance': 1, '年度': 1, '保费': 1, 'WhatIsAnAnnualPremiumForHomeInsurance': 1, '281lifeinsurance': 1, 'WhatKindOfLifeInsuranceShouldIBuy': 1, '282medicareinsuranceXarelto': 1, 'IsXareltoCoveredByMedicare': 1, '283healthinsurance': 1, '停': 1, 'IWasFiredWhenDoesMyHealthInsuranceStop': 1, '284lifeinsurance': 1, '美元': 1, 'HowDoesSplitDollarLifeInsuranceWork': 1, '285lifeinsurance': 1, 'IsItOkToCancelLifeInsurance': 1, '286lifeinsurance': 1, 'WhoShouldBeBeneficiaryOnLifeInsurance': 1, '287healthinsurance': 1, '群体': 1, '掉下来': 1, 'CanYouBeDroppedFromGroupHealthInsurance': 1, '288lifeinsurance': 1, 'DoesLifeInsuranceCoverCancer': 1, '289disabilityinsurance': 1, 'WhatIsSupplementalLongTermDisabilityInsurance': 1, '290autoinsurance': 1, '留在': 1, 'CanMarriedChildrenstayOnParentsAutoInsurance': 1, '291medicareinsurance': 1, 'CanYouClaimMedicareAndPrivateHealth': 1, '292lifeinsurance': 1, 'WhatIsALifeInsuranceAnnuity': 1, '293disabilityinsurance': 1, '期待': 1, 'WhatCanIExpectToPayForDisabilityInsurance': 1, '294lifeinsurance': 1, '相互': 1, 'WhatIsMutualWholeLifeInsurance': 1, '295retirementplans': 1, '养老金': 1, '赞助': 1, 'WhatIsAPensionPlanSponsor': 1, '296disabilityinsurance': 1, 'WhatStatesHaveStateDisabilityInsurance': 1, '297disabilityinsurance': 1, 'WhatIsCoveredByLongTermDisabilityInsurance': 1, '298homeinsurance': 1, 'CanYouSwitchHomeInsurance': 1, '299longtermcareinsurance': 1, 'WhoToBuyLongTermCareInsuranceFrom': 1, '300medicareinsurance': 1, 'ZostavaxDoesMedicareCoverZostavax': 1, '301criticalillnessinsuranceAflac': 1, 'IsAflacCancerInsuranceWorthIt': 1, '302autoinsurance': 1, '中期': 1, 'CanYouSwitchCarInsuranceMidPolicy': 1, '303homeinsurance': 1, '犯罪': 1, 'MyClaimWasDeniedDueToMyCriminalRecordIsThatRight': 1, '304lifeinsurance': 1, 'W2DoesLifeInsuranceGoOnYourW2': 1, '305lifeinsurance': 1, '拿': 1, 'CanNursingHomeTakeLifeInsurance': 1, '306lifeinsurance': 1, 'WhenAreLifeInsuranceProceedsTaxed': 1, '307lifeinsurance': 1, '意外': 1, 'IsAccidentalLifeInsuranceWorthIt': 1, '308healthinsurance': 1, 'TummyTuckDoesHealthInsuranceCoverATummyTuck': 1, '309healthinsurance': 1, 'DoesHealthInsuranceTypicallyCoverOtoplasty': 1, '310lifeinsurance': 1, '一部分': 1, 'IsLifeInsurancePartOfAnEstateAfterDeath': 1, '311longtermcareinsurance': 1, 'WhenDoYouGetLongTermCareInsurance': 1, '312healthinsurance': 1, 'HowDoIKnowWhatHealthInsuranceIHave': 1, '313lifeinsurance': 1, '平均工资': 1, 'WhatIsTheAverageSalaryOfALifeInsuranceAgent': 1, '314criticalillnessinsurance': 1, '发明': 1, '重大': 1, 'WhoInventedCriticalIllnessInsurance': 1, '315healthinsurance': 1, '剪辑': 1, 'DoesGreatClipsOfferHealthInsurance': 1, '316medicareinsuranceKrystexxa': 1, 'IsKrystexxaCoveredByMedicare': 1, '317homeinsurance': 1, 'WhatIsTheRightAmountOfHomeownersInsurance': 1, '318autoinsurance': 1, '加州': 1, '17': 1, '女性': 1, 'HowMuchIsCarInsuranceForA17YearOldFemaleInCalifornia': 1, '319medicareinsurance': 1, 'XanaxDoesMedicareCoverXanax': 1, '320lifeinsurance': 1, 'HowMuchDoesLifeInsuranceUsuallyCost': 1, '321lifeinsurance': 1, 'ShouldIBuyLifeInsuranceWhenIAmYoung': 1, '322medicareinsurance': 1, 'HowToChooseMedigapInsurance': 1, '323healthinsurance': 1, 'WhatKindOfHealthInsuranceIsBest': 1, '324healthinsurance': 1, 'DoesHealthInsuranceCoverSTDTesting': 1, '325annuities': 1, '即期': 1, 'WhatAreImmediateAnnuities': 1, '326healthinsurance': 1, 'WhatDoesAHealthInsurancePremiumMean': 1, '327criticalillnessinsurance': 1, '患者': 1, '而言': 1, 'WhatHappensToPeopleWithCancerAndNoInsurance': 1, '328healthinsurance': 1, 'WhenDoesMandatedHealthInsuranceStart': 1, '329rentersinsurance': 1, 'WhatDoesRentersInsuranceProtect': 1, '330annuities': 1, 'WhyAnnuitiesArePoorInvestments': 1, '331medicareinsurance': 1, '给定': 1, '时间': 1, '内': 1, '数量': 1, 'Doesmedicarelimitthenumberofechocardiogramsonecanhaveinanygivenamountoftime': 1, '332lifeinsurance': 1, 'HowToDetermineTermLifeInsuranceAmount': 1, '333healthinsurance': 1, '青光眼': 1, 'DoesHealthInsuranceCoverGlaucoma': 1, '334disabilityinsurance': 1, 'WhatDoesDisabilityInsuranceProtect': 1, '335autoinsurance': 1, '每年': 1, 'ShouldCarInsuranceIncreaseEveryYear': 1, '336medicareinsurance': 1, 'WhichIsBetterMedicareOrMedicareAdvantage': 1, '337lifeinsurance': 1, '导致': 1, 'WhatWillVoidALifeInsurancePolicy': 1, '338lifeinsurance': 1, '共有': 1, 'DoesLibertyMutualHaveLifeInsurance': 1, '339lifeinsurance': 1, 'DoesVariableLifeInsuranceHaveACashValue': 1, '340medicareinsurance': 1, '年费': 1, 'WhatIsTheYearlyCostOfMedicare': 1, '341lifeinsurance': 1, 'CanIBuyALifeInsurancePolicyOnMyParents': 1, '342homeinsurance': 1, '水暖': 1, 'CanHomeInsuranceCoverPlumbing': 1, '343healthinsurance': 1, 'HowToGetHealthInsuranceForALLC': 1, '344lifeinsurance': 1, '建立': 1, 'HowToSetUpATrustForLifeInsurance': 1, '345medicareinsurance': 1, 'CanYouGetMedicareWhileWorking': 1, '346lifeinsurance': 1, 'WhereDoIBuyLifeInsurance': 1, '347autoinsurance': 1, 'WhatMakesCarInsuranceCheaper': 1, '348lifeinsurance': 1, 'HowLongDoesItTakeToClaimALifeInsurancePolicy': 1, '349autoinsurance': 1, '非': 1, '卡车': 1, '保证': 1, '帮手': 1, '带来': 1, 'IamanondriverandneedatruckformyworkIwouldliketoinsuremyhelpertodriveformeanyproblems': 1, '350medicareinsurance': 1, 'WhatIsTheBestMedicareHealthPlan': 1, '351disabilityinsurance': 1, 'WhatIsGroupDisabilityInsurance': 1, '352autoinsurance': 1, '钥匙': 1, 'CanYouClaimLostCarKeysOnInsurance': 1, '353autoinsurance': 1, 'WhichCarInsuranceCompanyIsBest': 1, '354homeinsurance': 1, '写': 1, '空置': 1, 'WhoWritesVacantHomeInsurance': 1, '355homeinsurance': 1, 'WhatTypeOfWaterDamageIsCoveredByHomeownersInsurance': 1, '356autoinsurance': 1, 'WhenGettingCarInsuranceWhatInformationIsNeeded': 1, '357homeinsurance': 1, '建筑商': 1, '前': 1, '装修': 1, '家园': 1, 'DoINeedBuildersRiskInsuranceToPurchaseAHomeWhereWewillDoMajorRenovationsBeforeMovingIn': 1, '358medicareinsurance': 1, '睑下垂': 1, 'DoesMedicareCoverPtosis': 1, '359medicareinsurance': 1, 'HowMuchMoreDoesMedicareAdvantageCost': 1, '360medicareinsurance': 1, '转变': 1, 'CanYouChangeFromMedicareAdvantageToMedigap': 1, '361homeinsurance': 1, '模具': 1, 'WillMyHomeownersInsuranceCoverMoldDamage': 1, '362retirementplans': 1, 'WhatInsuranceWillINeedInRetirement': 1, '363healthinsurance': 1, '自助餐': 1, 'WhatIsACafeteriaPlanForHealthInsurance': 1, '364autoinsurance': 1, 'WhatAutoInsuranceIsRequiredByLaw': 1, '365medicareinsurance': 1, 'DoesMyMedicareCoverMyWife': 1, '366homeinsurance': 1, 'WhatAreTheCoverageCharacteristicsOfHomeInsurance': 1, '367lifeinsurance': 1, 'WhatIsSurvivorshipUniversalLifeInsurance': 1, '368medicareinsurance': 1, '沃克': 1, 'DoesMedicarePayForAWalker': 1, '369autoinsurance': 1, '高风险': 1, '驾驶者': 1, 'HowCanIGetCarInsuranceAsAHighRiskDriver': 1, '370annuities': 1, 'WhichAnnuityIsRightForMe': 1, '371lifeinsurance': 1, '孕妇': 1, 'CanYouGetLifeInsuranceWhilePregnant': 1, '372medicareinsurance': 1, 'DoesMedicareInsuranceCoverDental': 1, '373lifeinsurance': 1, '糖尿病': 1, 'CanIGetLifeInsuranceIfIHaveDiabetes': 1, '374longtermcareinsurance': 1, 'WhatCompanyHasTheBestLongTermCareInsurance': 1, '375lifeinsurance': 1, '广告': 1, 'WhatIsBasicLifeAndAdDInsurance': 1, '376medicareinsurance': 1, '复合': 1, 'DoesMedicareCoverCompoundedDrugs': 1, '377annuities': 1, '参与率': 1, 'WhatIsParticipationRateInAnnuities': 1, '378lifeinsurance': 1, '5': 1, 'WhatIsA5YearTermLifeInsurancePolicy': 1, '379annuities': 1, 'HowDoYouSetUpAnnuities': 1, '380lifeinsurance': 1, '永久性': 1, 'WhenIsPermanentLifeInsuranceAGoodIdea': 1, '381disabilityinsurance': 1, 'HowLongWillDisabilityInsurancePay': 1, '382lifeinsurance': 1, '菲律宾': 1, '保诚': 1, 'WhatIsPhilippinePrudentialLifeInsurance': 1, '383lifeinsurance60': 1, 'HowMuchIsLifeInsuranceForA60YearOld': 1, '384medicareinsurance': 1, '补品': 1, 'CanYouHaveTwoMedicareSupplements': 1, '385rentersinsurance': 1, 'WhatIsTheBenefitOfRentersInsurance': 1, '386lifeinsurance': 1, 'DoesLifeInsuranceCoverAlcoholism': 1, '387lifeinsurance': 1, 'HowMuchIsAGoodLifeInsurancePolicy': 1, '388lifeinsuranceQDRO': 1, 'DoesQDROApplyToLifeInsurance': 1, '389longtermcareinsurance80': 1, 'CanAn80YearOldGetLongTermCareInsurance': 1, '390retirementplans': 1, 'CanYouCashOutARetirementPlan': 1, '391rentersinsurance': 1, '止': 1, '赎': 1, 'DoesRentersInsuranceCoverForeclosure': 1, '392disabilityinsurance': 1, 'WhatIsPrivateDisabilityInsurance': 1, '393homeinsurance': 1, '游泳池': 1, '受损': 1, 'DoesHomeownersInsuranceCoverPoolDamage': 1, '394medicareinsurance': 1, 'WhyWouldINeedAMedigapPolicy': 1, '395homeinsurance': 1, '炉': 1, 'DoesHomeownersInsuranceCoverTheFurnace': 1, '396medicareinsurance': 1, 'LPC': 1, 'DoesMedicarePayForLPC': 1, '397lifeinsurance': 1, 'Scotia': 1, 'HowToCancelScotiaLifeInsurance': 1, '398lifeinsurance': 1, 'HowToKnowIfSomeoneHadLifeInsurance': 1, '399healthinsurance': 1, '妇女': 1, '行为': 1, 'HowDoesHealthInsuranceAffectTheRetirementBehaviorOfWomen': 1, '400medicareinsurance': 1, '脊医': 1, 'IsAChiropractorCoveredByMedicare': 1, '401longtermcareinsurance': 1, '科罗拉多州': 1, 'WhatCompanyHasTheCheapestLongTermCareInsuranceInColorado': 1, '402rentersinsurance': 1, 'HowMuchRentersInsuranceDoINeedForAnApartment': 1, '403homeinsurance': 1, 'HowMuchHomeInsuranceIsNeeded': 1, '404autoinsurance': 1, '提供商': 1, 'WhoIsTheBestAutoInsuranceProvider': 1, '405homeinsurance': 1, '投诉': 1, 'WhereToComplainAboutHomeInsurance': 1, '406medicareinsuranceMedigap': 1, '还是': 1, 'IsMedigapOrMedicareAdvantageBetter': 1, '407lifeinsurance': 1, 'WhenToSurrenderALifeInsurancePolicy': 1, '408lifeinsurance': 1, 'WhatIsLifeInsuranceAdvantagesAndDisadvantages': 1, '409healthinsurance': 1, 'MuchDoesHealthInsuranceCostOnePerson': 1, '410rentersinsurance': 1, '笔记本电脑': 1, 'DoesRentersInsuranceCoverABrokenLaptop': 1, '411lifeinsurance': 1, 'IsLifeInsuranceTaxableToTheBeneficiaryInIllinois': 1, '412healthinsurance': 1, 'CanIBeDeniedHealthInsurance': 1, '413lifeinsurance': 1, 'WhyDoKidsNeedLifeInsurance': 1, '414disabilityinsurance': 1, 'DoesDisabilityInsuranceHaveACashValue': 1, '415lifeinsurance': 1, 'HowMuchLifeInsuranceShouldYouCarry': 1, '416rentersinsurance': 1, 'DoesRentersInsuranceCoverStolenBike': 1, '417rentersinsurance': 1, 'WhatAreTheBenefitsOfHavingRentersInsurance': 1, '418lifeinsurance': 1, 'WhereCanIGetWholeLifeInsurance': 1, '419autoinsurance': 1, 'IsMyChildCoveredByMyAutoInsurance': 1, '420medicareinsurance': 1, 'WhatIsMedicarePartBUsedFor': 1, '421rentersinsurance': 1, 'WhatIsCoveredWithRentersInsurance': 1, '422retirementplans': 1, '借款': 1, 'HowToBorrowFromARetirementPlan': 1, '423autoinsurance': 1, 'CanYouKeepAutoInsuranceClaimMoney': 1, '424homeinsurance': 1, '中央': 1, '空气': 1, 'DoesHomeInsuranceCoverCentralAir': 1, '425healthinsurance': 1, '事件': 1, 'CanICancelMyHealthInsuranceWithoutAQualifyingEvent': 1, '426longtermcareinsurance': 1, '这个': 1, '经济': 1, 'ShouldIBuyLongTermCareInsuranceInThisEconomy': 1, '427lifeinsurance': 1, '年限': 1, 'WhatIsVestingAgeInLifeInsurance': 1, '428disabilityinsurance': 1, '图书馆': 1, 'Ineedtopurchasedisabilityinsuranceforourlibrarycanyouhelp': 1, '429lifeinsurance': 1, '高级': 1, 'HowMuchDoesSinglePremiumLifeInsuranceCost': 1, '430annuitiesSuzeOrman': 1, 'WhatDoesSuzeOrmanThinkOfVariableAnnuities': 1, '431rentersinsurance': 1, 'IsRentersInsuranceWorthTheCost': 1, '432retirementplans': 1, '设定': 1, 'HowToSetupAPersonalRetirementPlan': 1, '433annuities': 1, 'CanAnnuitiesBePledgedAsCollateral': 1, '434lifeinsurance': 1, 'WhenToBuyLifeInsuranceForChild': 1, '435rentersinsurance': 1, '洪水': 1, 'DoesRentersInsuranceCoverFloodInApartments': 1, '436lifeinsurance': 1, 'WhatDoLifeInsurancePoliciesCover': 1, '437healthinsurance': 1, 'BCBSTX': 1, '并': 1, '偏头痛': 1, 'WhyWouldBCBSTXOfferARiderAndARateUpForMigraines': 1, '438homeinsurance': 1, 'WhereCanIGetCheapHomeownersInsurance': 1, '439healthinsurance': 1, '超重': 1, 'HowToGetHealthInsuranceIfYouAreOverweight': 1, '440autoinsurance': 1, '延期': 1, 'CanYouGetAnExtensionOnCarInsurance': 1, '441lifeinsurance': 1, 'HowDoIKnowHowMuchLifeInsuranceINeed': 1, '442lifeinsurance': 1, 'WhoCanBuyALifeInsurancePolicy': 1, '443disabilityinsurance': 1, '可能': 1, 'HowMuchCouldDisabilityInsuranceCost': 1, '444medicareinsurance': 1, '处方药': 1, 'IsMedicarePrescriptionDrugCoverageMandatory': 1, '445autoinsurance': 1, 'WhatToLookForWhenPurchasingCarInsurance': 1, '446homeinsurance': 1, 'ATV': 1, 'DoesHomeownersInsuranceCoverATVAccidents': 1, '447homeinsurance': 1, 'WhatIsTheBestHomeInsurancePolicy': 1, '448autoinsurance': 1, '阿肯色州': 1, 'WhereCanIFindCheapAutoInsuranceInArkansas': 1, '449lifeinsurance': 1, '地球': 1, 'HowMuchIsGlobeLifeInsurance': 1, '450lifeinsurance': 1, '最大': 1, 'WhoIsTheBiggestLifeInsuranceCompany': 1, '451medicareinsurance': 1, 'DoesMedicarePayForEchocardiogram': 1, '452lifeinsurance': 1, 'CanIPurchaseLifeInsuranceOnMyParents': 1, '453disabilityinsurance': 1, 'WhoPaysForSocialSecurityDisabilityInsurance': 1, '454lifeinsurance': 1, 'WhereShouldIGetTermLifeInsurance': 1, '455rentersinsurance': 1, 'WhyDoesMyLandlordWantMeToHaveRentersInsurance': 1, '456homeinsurance': 1, '因素': 1, 'WhatFactorsAffectTheCostOfHomeInsurance': 1, '457lifeinsurance': 1, '全期': 1, 'WhoShouldBuyWholeTermLifeInsurance': 1, '458healthinsurance': 1, '合约': 1, 'WhoIsHealthInsuranceAContractBetween': 1, '459disabilityinsurance': 1, 'WhyDoPeopleBuyDisabilityInsurance': 1, '460healthinsurance': 1, '两项': 1, '该': 1, 'HowDoesItWorkIfYouHaveTwoHealthInsurancePolicies': 1, '461rentersinsurance': 1, 'CanYouCancelRentersInsuranceAnyTime': 1, '462medicareinsurance': 1, '肺炎': 1, '疫苗': 1, 'DoesMedicarePayForPneumoniaVaccine': 1, '463medicareinsurance': 1, 'MedicareHowToSignUpForMedicareOnline': 1, '464lifeinsurance': 1, 'CanCreditorsClaimLifeInsuranceBenefits': 1, '465retirementplans': 1, '太晚': 1, 'WhenIsItTooLateToPlanForRetirement': 1, '466medicareinsurance': 1, '二级': 1, 'HowToBillMedicareAsSecondaryInsurance': 1, '467autoinsurance': 1, 'WhoCanDriveUnderMyCarInsurance': 1, '468healthinsurance': 1, 'DoesShortTermHealthInsuranceWork': 1, '469healthinsurance': 1, '改变': 1, 'CanMyHealthInsuranceCompanyChangeMyPolicy': 1, '470lifeinsurance': 1, 'HowMuchDoesAnAgentMakeOnLifeInsurance': 1, '471lifeinsurance': 1, '前妻': 1, 'CanMyExHaveLifeInsuranceOnMe': 1, '472homeinsurance': 1, 'HowMuchShouldMyHomeownersInsuranceBe': 1, '473homeinsurance': 1, 'DoesHomeownersInsuranceCoverLegalFees': 1, '474lifeinsurance': 1, '终止': 1, 'CanATermLifeInsurancePolicyBeCashedOut': 1, '475lifeinsurance': 1, 'WhenCanYouCashOutOnLifeInsurance': 1, '476healthinsurance': 1, '专员': 1, 'WhatDoesAHealthInsuranceSpecialistDo': 1, '477lifeinsurance': 1, '按': 1, '附表': 1, 'C': 1, 'CanIDeductLifeInsurancePremiumsOnScheduleC': 1, '478homeinsurance': 1, 'WhyIsHomeownersInsuranceImportant': 1, '479lifeinsurance': 1, '成长': 1, 'WhatHappensWhenALifeInsurancePolicyMatures': 1, '480lifeinsurance': 1, 'HowToFindOutHowMuchLifeInsuranceSomeoneHas': 1, '481longtermcareinsurance': 1, 'WhyBuyLongTermCareInsurance': 1, '482healthinsurance2014': 1, 'CanIBeDeniedHealthInsuranceIn2014': 1, '483lifeinsurance': 1, '美国银行': 1, 'DoesBankOfAmericaSellLifeInsurance': 1, '484healthinsurancePPO': 1, 'WhatDoesPPOStandForWithHealthInsurance': 1, '485rentersinsurance': 1, 'WhatDoesRentersInsuranceUsuallyCover': 1, '486homeinsurance': 1, '气体': 1, 'WillHomeInsuranceCoverGasLeaks': 1, '487medicareinsuranceObamacare': 1, '提高': 1, 'WillObamacareRaiseMyMedicarePremium': 1, '488lifeinsurance': 1, 'HowManyLifeInsuranceAgentsAreThereInTheUs': 1, '489homeinsurance': 1, '捆绑': 1, 'HowLongDoesItTakeToGetAHomeInsuranceBinder': 1, '490lifeinsurance': 1, 'WhoHasTheCheapestLifeInsuranceRates': 1, '491lifeinsurance': 1, '或全': 1, 'WhatIsBetterTermOrWholeLifeInsurance': 1, '492medicareinsurance': 1, '考试': 1, 'WhatDoesAMedicareWellnessExamInclude': 1, '493medicareinsurance': 1, 'DoesMedicarePayForUltrasounds': 1, '494retirementplans401K': 1, 'DoesA401KCountAsARetirementPlan': 1, '495homeinsurance': 1, '单位': 1, 'DoesHomeInsuranceCoverAcUnit': 1, '496healthinsurance': 1, '兼职': 1, 'WhereCanIWorkPartTimeAndGetHealthInsurance': 1, '497autoinsurance': 1, 'HowMuchWouldInsuranceBeForASportsCar': 1, '498disabilityinsurance': 1, '难以获得': 1, 'HowHardIsItToGetDisabilityInsurance': 1, '499autoinsurance': 1, '派对': 1, '开车': 1, 'CanItestdriveacarfromaprivatepartywithoutinsurance': 1, '500autoinsurance': 1, '快': 1, 'HowFastCanYouGetCarInsurance': 1, '501autoinsurance': 1, '十七岁': 1, '摩托车': 1, 'HowMuchIsMotorcycleInsuranceForA17YearOld': 1, '502lifeinsurance': 1, 'HowDoesLifeInsuranceWorkIfEveryoneDies': 1, '503rentersinsurance': 1, '租赁者': 1, 'HowLongDoesItTakeForRentersInsuranceToGoIntoEffect': 1, '504autoinsurance': 1, '叫': 1, 'CanMyCarInsuranceSueMe': 1, '505healthinsurance': 1, '宫内': 1, '节育器': 1, 'DoesHealthInsuranceCoverAnIUD': 1, '506medicareinsurance': 1, '援助': 1, 'DoesMedicareCoverHomeCareAssistance': 1, '507homeinsurance': 1, 'CanIClaimHomeownersInsuranceOnMyTaxes': 1, '508homeinsurance': 1, 'WhatDoINeedForHomeownersInsurance': 1, '509lifeinsurance': 1, '禁止': 1, 'IsLifeInsuranceForbiddenInIslam': 1, '510lifeinsurance': 1, 'WhatIsThePurposeOfWholeLifeInsurance': 1, '511lifeinsurance': 1, '阿拉巴马州': 1, '牌照': 1, 'HowDoIGetALifeInsuranceLicenseInAlabama': 1, '512rentersinsurance': 1, '动物': 1, 'DoesRentersInsuranceCoverAnimals': 1, '513lifeinsurance': 1, '赡养费': 1, '人士': 1, 'DoesASinglePersonWithNoDependentsNeedLifeInsurance': 1, '514lifeinsurance': 1, 'WhatAreTheBestTermLifeInsuranceCompanies': 1, '515homeinsurance': 1, '粘合剂': 1, 'WhatIsHomeownersInsuranceBinder': 1, '516healthinsurance': 1, 'WhatDoesItMeanToHaveADeductibleOnHealthInsurance': 1, '517disabilityinsurance': 1, 'DoesFederalGovernmentOfferDisabilityInsurance': 1, '518medicareinsurance': 1, '腹部': 1, 'WillMedicarePayForAbdominoplasty': 1, '519autoinsurance': 1, 'WhatAutoInsuranceCoverageIsRightForMe': 1, '520lifeinsurance': 1, 'WhatIsViaticalLifeInsurance': 1, '521lifeinsurance': 1, 'CanYouCashInAUniversalLifeInsurancePolicy': 1, '522lifeinsurance': 1, 'WhatIsTheAverageCostOfWholeLifeInsurance': 1, '523homeinsurance': 1, 'WhatInformationIsNeededForAHomeInsuranceQuote': 1, '524lifeinsurance': 1, 'WhatIsAGroupUniversalLifeInsurancePolicy': 1, '525lifeinsurance': 1, 'WhoMuchLifeInsuranceShouldIHave': 1, '526lifeinsurance': 1, 'WhatToLookForWhenBuyingLifeInsurance': 1, '527rentersinsurance': 1, 'DoesStateFarmRentersInsuranceCoverTheft': 1, '528rentersinsurance': 1, '物品': 1, 'DoesRentersInsuranceCoverGarageItems': 1, '529homeinsurance': 1, '地震': 1, 'DoINeedEarthquakeInsuranceMyHome': 1, '530lifeinsurance': 1, 'WhoQualifiesForLifeInsurance': 1, '531rentersinsurance': 1, 'WhatDoesRentersInsuranceCoverInAFire': 1, '532rentersinsurance': 1, '保障': 1, '欠租': 1, 'WhatIsProtectedUnderRentersInsurance': 1, '533autoinsurance': 1, 'HowMuchDoesItCostForCarInsurance': 1, '534lifeinsurance': 1, '竞争': 1, 'CanLifeInsuranceBeContested': 1, '535medicareinsurance': 1, 'IsNursingHomeCareCoveredByMedicare': 1, '536lifeinsurance': 1, 'WhatIsALifeInsuranceQuote': 1, '537medicareinsurance': 1, 'WhenIsSomeoneEligibleForMedicarePartD': 1, '538healthinsurance': 1, 'CanIUseMyHealthInsuranceInAnotherState': 1, '539retirementplans': 1, '翻转': 1, '401KWhyShouldIRolloverMy401K': 1, '540lifeinsurance': 1, '缅因州': 1, 'DoYouNeedALicenseToSellLifeInsuranceInMaine': 1, '541disabilityinsurance': 1, '伤残': 1, 'HowMuchIsDisabilityInsuranceForDoctors': 1, '542medicareinsurance': 1, '三分之一': 1, 'CanTricareBePrimaryOverMedicare': 1, '543healthinsurance': 1, 'WhatIsAnHSAHealthInsurancePlan': 1, '544healthinsurance': 1, 'WhatIsTheAgeLimitForHealthInsurance': 1, '545retirementplans': 1, '顾问': 1, 'HowToFindARegisteredInvestmentAdvisor': 1, '546lifeinsurance': 1, 'WhoCanCashOutALifeInsurancePolicy': 1, '547lifeinsurance': 1, '人有': 1, 'CanOnePersonHaveTwoLifeInsurancePolicies': 1, '548medicareinsurance2014': 1, 'WhatWillBeTheMedicarePremiumIn2014': 1, '549longtermcareinsurance': 1, 'WhenToStartLongTermCareInsurance': 1, '550medicareinsurance': 1, '怀俄明州': 1, 'HowDoIQualifyForMedicareInWyoming': 1, '551disabilityinsurance': 1, 'WhoShouldGetDisabilityInsurance': 1, '552rentersinsurance': 1, 'WhereIsTheCheapestRentersInsurance': 1, '553lifeinsurance': 1, 'CanLifeInsuranceGoToATrust': 1, '554healthinsurance': 1, 'Obamacare': 1, '下': 1, 'WhatIsThePenaltyForNotHavingHealthInsuranceUnderObamacare': 1, '555homeinsurance': 1, 'HowToGetQuotesForHomeownersInsurance': 1, '556lifeinsurance': 1, 'IsLifeInsuranceTaxedWhenPaidOut': 1, '557autoinsurance': 1, '加利福尼亚': 1, 'HowMuchIsFullCoverageAutoInsuranceInCalifornia': 1, '558medicareinsurance': 1, 'CanYouApplyForMedicarePartBOnline': 1, '559annuities': 1, 'HowMuchShouldIHaveInAnnuities': 1, '560autoinsurance': 1, 'CanCarInsuranceGoOnYourCreditReport': 1, '561autoinsurance': 1, '正在': 1, '越过': 1, '交通': 1, '过程': 1, 'IammovingacrosscountryWhataremyoptionstoinsuremypropertyduringtransit': 1, '562healthinsurancePCN': 1, '站': 1, '保险卡': 1, 'WhatDoesPCNStandForOnAHealthInsuranceCard': 1, '563longtermcareinsurance': 1, 'HowMuchLongTermCareInsuranceIsEnough': 1, '564rentersinsurance': 1, '房租': 1, 'WhatToLookForWhenBuyingRentersInsurance': 1, '565healthinsurance': 1, 'HowMuchIsHealthInsuranceThroughAJob': 1, '566healthinsurance': 1, 'HowMuchIsIndividualHealthInsuranceInNewJersey': 1, '567homeinsurance': 1, 'DoesHomeownersInsuranceCoverALostWeddingRing': 1, '568lifeinsurance': 1, 'DoesLifeInsuranceRequireABloodTest': 1, '569autoinsurance': 1, 'DoesTheCarInsuranceCoverTheDriverOrTheCar': 1, '570medicareinsurance': 1, 'HowToPurchaseMedicareInsurance': 1, '571healthinsurance': 1, '养父母': 1, 'HowLongCanChildrenBeOnParentsHealthInsurance': 1, '572medicareinsurance': 1, '视野': 1, 'IsSecureHorizonsAMedicareSupplement': 1, '573rentersinsurance': 1, '一个月': 1, 'HowMuchDoesRentersInsuranceCostAMonth': 1, '574medicareinsurance': 1, 'WhichMedicarePartBPlanIsBest': 1, '575disabilityinsurance': 1, 'HowManyEmployersOfferDisabilityInsurance': 1, '576healthinsurance': 1, 'WhatTypesOfJobsOfferTheBestHealthInsuranceCoverage': 1, '577rentersinsurance': 1, 'WhatIsAGoodRentersInsurancePolicy': 1, '578lifeinsurance': 1, 'HowLongShouldYouHaveTermLifeInsurance': 1, '579medicareinsurance': 1, 'F': 1, 'WhatDoesMedicareSupplementFCover': 1, '580lifeinsurance': 1, 'DoesLifeInsuranceMoneyGoIntoEstate': 1, '581lifeinsurance': 1, 'WhatIsServicemenGroupLifeInsuranceCoverage': 1, '582disabilityinsurance': 1, 'WhyBuySupplementalDisabilityInsurance': 1, '583healthinsurance': 1, '身体健康': 1, 'CanIGetHealthInsuranceWithoutAPhysical': 1, '584rentersinsurance': 1, 'DoesMyRentersInsuranceCoverMyCellPhone': 1, '585homeinsurance': 1, '危害': 1, 'WhatDoesHomeHazardInsuranceCover': 1, '586medicareinsurance': 1, '方面': 1, '声称': 1, 'CanYouClaimRhinoplastyOnMedicare': 1, '587lifeinsurance': 1, '意义': 1, 'DoesWholeLifeInsuranceEverReallyMakeSense': 1, '588lifeinsurance': 1, 'WhyIsLifeInsuranceSoCheap': 1, '589rentersinsurance': 1, '弗吉尼亚州': 1, 'DoesVirginiaRequireRentersInsurance': 1, '590medicareinsurance': 1, 'HowMuchDoesMedicareCoverForGlasses': 1, '591lifeinsurance': 1, 'HowDoYouDetermineHowMuchTermLifeInsuranceYouNeed': 1, '592lifeinsurance': 1, 'CanYouCancelLifeInsurance': 1, '593healthinsurance': 1, '我会': 1, '征税': 1, 'WillIBeTaxedIfIDontHaveHealthInsurance': 1, '594medicareinsurance': 1, '服务': 1, '承包商': 1, 'WhatIsMedicareFeeForServiceContractor': 1, '595rentersinsurance': 1, '盖枪': 1, 'DoesRentersInsuranceCoverGunTheft': 1, '596lifeinsurance': 1, 'WhatIsTheBestLifeInsurancePolicyForChildren': 1, '597lifeinsuranceAllstate': 1, 'DoesAllstateDoLifeInsurance': 1, '598autoinsurance': 1, '最低': 1, 'WhatAreTheCarInsuranceMinimumsInPennsylvania': 1, '599medicareinsurance': 1, 'CanIHavePrivateInsuranceAndMedicare': 1, '600disabilityinsurance': 1, 'WhyYouShouldBuyDisabilityInsurance': 1, '601autoinsurance': 1, '添加': 1, 'WhoCanIAddToMyAutoInsurance': 1, '602lifeinsurance': 1, 'CanYouCancelAWholeLifeInsurancePolicy': 1, '603autoinsurance': 1, '加价': 1, '车票': 1, '之后': 1, 'HowMuchDoesAutoInsuranceIncreaseAfterSpeedingTicket': 1, '604autoinsurance': 1, '下跌': 1, 'WhenIsCarInsuranceGoingDown': 1, '605disabilityinsurance': 1, '推荐': 1, 'IsDisabilityInsuranceRecommended': 1, '606lifeinsurance': 1, '全民': 1, 'WhyIsWholeLifeInsuranceSoExpensive': 1, '607lifeinsurance': 1, 'WhoShouldOwnYourLifeInsurancePolicy': 1, '608medicareinsurance': 1, 'WhatIsAMedicareReplacement': 1, '609lifeinsurance': 1, 'HowMuchIsLifeInsuranceForMyParents': 1, '610lifeinsurance': 1, 'WhoSellsTermLifeInsurance': 1, '611lifeinsurance': 1, 'WhoCanPurchaseLifeInsurance': 1, '612healthinsurance': 1, '产前': 1, '保健': 1, '但是': 1, '怀孕': 1, '发现': 1, '产妇': 1, '东西': 1, '我该': 1, 'MyAgentToldMeIWasCoveredForPrenatalCareButNowIMPregnantAndFoundOutImNotCoveredForAnythingMaternityRelatedWhatDoIDo': 1, '613autoinsurance': 1, 'WhoSellsTheCheapestAutoInsurance': 1, '614disabilityinsurance': 1, '牌子': 1, 'WhatLicenseDoINeedToSellDisabilityInsurance': 1, '615healthinsurance': 1, 'CanIGetHealthInsuranceIfUnemployed': 1, '616healthinsurance': 1, '老人家': 1, '长给': 1, 'CanIAddMyElderlyParentToMyHealthInsurance': 1, '617lifeinsurance': 1, 'WhatIsWrongWithWholeLifeInsurance': 1, '618lifeinsurance': 1, 'CanYouCashInYourLifeInsurance': 1, '619lifeinsurance': 1, '证书': 1, 'WhatIsALifeInsuranceCertificate': 1, '620rentersinsurance': 1, 'WhatIsRentersInsuranceLossOfUse': 1, '621autoinsurance': 1, '鹿': 1, 'DoesAutoInsuranceCoverHittingDeer': 1, '622medicareinsurance': 1, '用尽': 1, 'IsMedicareLikelyToRunOutOfMoney': 1, '623disabilityinsurance': 1, '两种': 1, 'WhatAreTwoTypesOfDisabilityInsurance': 1, '624retirementplans': 1, 'WhatIsANonQualifiedRetirementPlan': 1, '625annuities': 1, '比例': 1, 'WhatIsTheExclusionRatioOfImmediateAnnuities': 1, '626healthinsurance': 1, 'HowMuchIsAPremiumForHealthInsurance': 1, '627healthinsurance': 1, 'IsCobraHealthInsuranceGood': 1, '628lifeinsurance': 1, 'IsACreditCheckRequiredToGetLifeInsurance': 1, '629disabilityinsurance': 1, 'WhyDoPeopleGetDisabilityInsurance': 1, '630healthinsurance': 1, 'CanHealthInsuranceCompaniesTellIfYouSmoke': 1, '631medicareinsurance': 1, 'YMCA': 1, 'SilversSneakers': 1, '会员': 1, 'CanyougetaSilversSneakersmembershipattheYMCAifyouareonMedicare': 1, '632lifeinsurance': 1, '任何人': 1, '拿出': 1, 'CanAnyoneTakeOutALifeInsurancePolicyOnAnyone': 1, '633autoinsurance': 1, '商业': 1, 'WhenDoINeedCommercialAutoInsurance': 1, '634longtermcareinsurance': 1, '保险市场': 1, '小': 1, 'WhyIsTheMarketForLongTermCareInsuranceSoSmall': 1, '635lifeinsurance': 1, '全员': 1, 'WhenDidWholeLifeInsuranceStart': 1, '636autoinsurance': 1, '转让': 1, '一辆车': 1, 'HowDoITransferMyInsuranceToAnotherCar': 1, '637lifeinsuranceROP': 1, 'WhatDoesROPMeanInLifeInsurance': 1, '638disabilityinsurance': 1, 'WhatQualifiesForLongTermDisabilityInsurance': 1, '639lifeinsurance': 1, '不止': 1, 'CanYouHaveMoreThanOneLifeInsurancePolicies': 1, '640homeinsurance': 1, '新房子': 1, 'HowToBuyHomeownersInsuranceForANewHome': 1, '641healthinsurance': 1, 'HowDoIGetMyOwnHealthInsurance': 1, '642longtermcareinsurance': 1, 'CanLongTermCareInsurancePremiumsBeDeducted': 1, '643lifeinsurance': 1, '债务人': 1, 'CanDebtorsTakeLifeInsurance': 1, '644rentersinsurance': 1, 'WhereToGetRentersInsurance': 1, '645medicareinsurance': 1, '批准': 1, 'HowMuchIsTheMedicareApprovedAmountForEyeglasses': 1, '646lifeinsurance': 1, 'WhatDoesALifeInsuranceBloodTestLookFor': 1, '647medicareinsurance': 1, 'WhenCanIReceiveMedicareBenefits': 1, '648annuities': 1, '抵押品': 1, 'CanAnnuitiesBeUsedForCollateral': 1, '649medicareinsurance': 1, 'MOOPWhatIsMOOPInMedicare': 1, '650disabilityinsurance': 1, 'HowToPurchaseShortTermDisabilityInsurance': 1, '651homeinsurance': 1, '屋主': 1, '塌方': 1, 'DoesHomeownersInsuranceCoverRoofCollapseDueToSnow': 1, '652retirementplans': 1, 'RothIRA': 1, '免税': 1, 'WhyIsARothIRATaxFree': 1, '653criticalillnessinsurance': 1, 'WhoNeedsCriticalIllnessInsurance': 1, '654lifeinsurance': 1, 'HowDoesALifeInsuranceCompanyKnowYouDied': 1, '655healthinsurance': 1, '获得最佳': 1, 'WhereToGetTheBestHealthInsurance': 1, '656lifeinsurance': 1, 'HowCanLifeInsuranceBeSoCheap': 1, '657autoinsurance': 1, 'HowMuchIsACarInsuranceDeductible': 1, '658homeinsurance': 1, 'WhatDoesHomeInsuranceCoverInAFire': 1, '659homeinsurance': 1, 'DoesBeingUnemployedAffectHomeInsurance': 1, '660medicareinsurance': 1, 'MedigapWhyGetMedigap': 1, '661lifeinsurance': 1, 'WhatAreMEChargesOnLifeInsurance': 1, '662lifeinsurance': 1, '钱来': 1, '偿付': 1, 'HowLongDoesItTakeToPayOffWholeLifeInsurance': 1, '663retirementplans': 1, '顶帽': 1, 'WhatIsATopHatRetirementPlan': 1, '664lifeinsurance78': 1, 'CanA78YearOldGetLifeInsurance': 1, '665homeinsurance': 1, 'CanAHomeInsuranceCompanyDropYou': 1, '666healthinsurance': 1, '牙': 1, '种植体': 1, 'DoesHealthInsuranceCoverDentalImplants': 1, '667homeinsurance': 1, 'WhatHappensIfICantGetHomeownersInsurance': 1, '668lifeinsurance': 1, '宝力': 1, 'WhatIsBoliLifeInsurance': 1, '669lifeinsurance': 1, 'HowLongDoesALifeInsuranceCheckTakeToClear': 1, '670healthinsurance': 1, '新墨西哥': 1, 'WhereShouldIBuyHealthInsuranceInNewMexico': 1, '671rentersinsurance': 1, 'WhatIsRentersInsuranceCoverage': 1, '672longtermcareinsuranceSuzeOrman': 1, '看法': 1, 'WhatDoesSuzeOrmanSayAboutLongTermCareInsurance': 1, '673healthinsurance': 1, '得克萨斯州': 1, 'HowMuchIsHealthInsuranceForOnePersonInTexas': 1, '674autoinsurance': 1, 'CanIUseMyCarInsuranceToRentACar': 1, '675medicareinsurance': 1, 'HowToApplyForMedicarePartB': 1, '676autoinsurance': 1, '买车': 1, 'CanIGetCarInsuranceForMyKids': 1, '677medicareinsurance': 1, '家庭保健': 1, 'WhenDoesMedicareCoverHomeHealthCare': 1, '678homeinsurance': 1, '暖通': 1, '空调': 1, 'DoesHomeownersInsuranceCoverHVAC': 1, '679retirementplans': 1, '401C': 1, '早期': 1, 'WhatIsThePenaltyForCashingOutA401KEarly': 1, '680healthinsurance': 1, 'IsHealthInsuranceMandatory': 1, '681rentersinsurance': 1, 'HowMuchDoesTheAverageRentersInsuranceCost': 1, '682lifeinsurance': 1, '债务': 1, '追回': 1, '者': 1, '追求': 1, 'CanDebtCollectorsGoAfterLifeInsurance': 1, '683healthinsurance': 1, 'HowMuchDoesHealthInsuranceForIndividualsCost': 1, '684healthinsurance': 1, 'IsHealthInsuranceSubsidized': 1, '685lifeinsurance': 1, 'HowDoesAWholeLifeInsuranceLoanWork': 1, '686autoinsurance': 1, '身体': 1, '伤害': 1, 'WhatIsAutoPhysicalDamageInsurance': 1, '687rentersinsurance': 1, 'HowMuchCoverageDoINeedForRentersInsurance': 1, '688disabilityinsurance': 1, 'HowToBuyDisabilityInsuranceOnline': 1, '689healthinsurance': 1, 'IsRhinoplastyCoveredByHealthInsurance': 1, '690rentersinsurance': 1, 'IsItLegalForLandlordToRequireRentersInsurance': 1, '691medicareinsurance': 1, 'DoesMedicareCoverSTDTesting': 1, '692autoinsurance': 1, '完成': 1, 'HowdoIknowwhenmycaraccidentclaimiscomplete': 1, '693homeinsurance': 1, 'WhatDoesHomeownersMedicalInsuranceCover': 1, '694healthinsurance': 1, '工人': 1, '就业': 1, 'DoesHealthInsuranceAffectTheEmploymentOfOlderWorkers': 1, '695lifeinsurance': 1, '遗嘱': 1, 'DoesLifeInsuranceGoThroughProbate': 1, '696lifeinsurance': 1, '做出': 1, '贡献': 1, 'WhoCanContributeToAnIrrevocableLifeInsuranceTrust': 1, '697homeinsurance': 1, '日托': 1, 'WhatKindOfInsuranceIsNeededForAHomeDaycare': 1, '698lifeinsurance': 1, '过量': 1, 'IsADrugOverdoseCoveredByLifeInsurance': 1, '699disabilityinsurance': 1, 'WhoIsEligibleForDisabilityInsurance': 1, '700lifeinsurance': 1, 'WhoNeedsWholeLifeInsurance': 1, '701medicareinsuranceD': 1, 'IsPartDMedicareFree': 1, '702medicareinsurance': 1, 'VA': 1, 'CanYouHaveBothMedicareAndVABenefits': 1, '703autoinsurance': 1, '改车': 1, 'DoINeedToChangeCarInsuranceWhenIMove': 1, '704retirementplans': 1, 'HowToChooseTheRightRetirementPlan': 1, '705homeinsurance': 1, '包含': 1, 'DoesHomeInsuranceCoverStolenCash': 1, '706lifeinsurance': 1, 'WhatIsFaceValueOfLifeInsurance': 1, '707medicareinsurance': 1, 'WhoHasTheBestMedigapPlan': 1, '708lifeinsurance': 1, '未成年人': 1, 'CanAMinorBeABeneficiaryOnLifeInsurance': 1, '709autoinsurance': 1, 'DoesMichiganRequireAutoInsurance': 1, '710healthinsurance': 1, 'HowDoISignUpForCobraHealthInsurance': 1, '711retirementplans401K': 1, '资源': 1, 'Can401KPlansProvideAdequateRetirementResources': 1, '712retirementplans': 1, '退休金': 1, 'IsAMilitaryPensionAQualifiedRetirementPlan': 1, '713annuities': 1, 'WhatDoesItTakeToSellAnnuities': 1, '714medicareinsurance': 1, 'DoesEveryone65AndOlderQualifyForMedicare': 1, '715longtermcareinsurance': 1, '超过': 1, '80': 1, 'CanYouGetLongTermCareInsuranceIfYouAreOver80': 1, '716lifeinsurance': 1, 'HowMuchDoesANewYorkLifeInsuranceAgentMake': 1, '717disabilityinsurance': 1, '独资': 1, '经营者': 1, 'CanASoleProprietorDeductDisabilityInsurancePremiums': 1, '718healthinsurance': 1, 'Cananemployerchargehigherratestoolderemployee': 1, '719homeinsurance': 1, '地下室': 1, 'WillHomeownersInsuranceCoverALeakingBasement': 1, '720medicareinsurance': 1, 'HowDoINotifyMedicareOfADeath': 1, '721medicareinsurance': 1, 'WhatIsTheDifferenceBetweenMedicareAdvantageAndMedigapInsurance': 1, '722healthinsurance': 1, '新生儿': 1, 'HowMuchDoesHealthInsuranceForANewbornCost': 1, '723autoinsurance': 1, '结算': 1, 'IsAnAutoInsuranceSettlementTaxable': 1, '724rentersinsurance': 1, 'WillRentersInsuranceCoverStolenCash': 1, '725healthinsurance': 1, 'WhyDoWeNeedHealthInsuranceCompanies': 1, '726autoinsurance': 1, '辆': 1, 'HowMuchCarInsuranceShouldICarryInOhio': 1, '727disabilityinsurance': 1, 'HowLongDoesShortTermDisabilityInsuranceLast': 1, '728medicareinsurance': 1, 'WillMedicareBeThereWhenIRetire': 1, '729autoinsurance': 1, '兄弟': 1, 'CanMyBrotherDriveMyCarWithoutInsurance': 1, '730medicareinsurance65': 1, '之前': 1, '享受': 1, 'CanIGetOnMedicareBeforeTheAgeOf65': 1, '731healthinsurance': 1, 'WhyDoesHealthInsuranceExist': 1, '732medicareinsurance': 1, '之间': 1, 'WhatAreTheDifferencesBetweenMedicareAAndMedicareB': 1, '733annuities': 1, 'WhenIsTheBestTimeToBuyAnnuities': 1, '734lifeinsurance': 1, '尿液': 1, 'WhatDoesLifeInsuranceBloodAndUrineTestFor': 1, '735lifeinsurance': 1, '离婚': 1, '期间': 1, 'WhatHappensToLifeInsuranceDuringDivorce': 1, '736lifeinsurance': 1, 'WhereToBuyGoodLifeInsurance': 1, '737rentersinsurance': 1, 'HowMuchDoesBasicRentersInsuranceCost': 1, '738lifeinsurance': 1, '西北': 1, 'IsNorthwesternMutualWholeLifeInsuranceAGoodInvestment': 1, '739lifeinsurance': 1, 'CanYouGetCashFromATermLifeInsurancePolicy': 1, '740rentersinsurance': 1, '低廉': 1, 'WhereToGetCheapRentersInsurance': 1, '741healthinsurance60': 1, 'HowMuchIsHealthInsuranceForA60YearOld': 1, '742annuities': 1, '组合': 1, '金中': 1, 'HowMuchOfYourPortfolioShouldBeInAnnuities': 1, '743autoinsurance': 1, 'WhereCanIGetInsuranceWithoutACar': 1, '744rentersinsurance': 1, 'ShouldRentersInsuranceBeRequired': 1, '745homeinsurance': 1, '节省': 1, '资金': 1, 'HowCanISaveMoneyOnHomeownersInsurance': 1, '746lifeinsurance': 1, 'TPD': 1, 'WhatIsLifeAndTPDInsurance': 1, '747lifeinsurance': 1, '其他人': 1, 'CanYouBuyLifeInsuranceOnOtherPeople': 1, '748otherinsurance': 1, '学院': 1, '专业': 1, '学习': 1, 'WhatIsTheCollegeMajorToStudyInOrderToBeAnInsuranceAgent': 1, '749medicareinsurance': 1, 'DME': 1, '用品': 1, 'DoesMedicareCoverDMESupplies': 1, '750retirementplans': 1, '借贷': 1, 'CanYouBorrowAgainstYourRetirementPlanInPennsylvania': 1, '751longtermcareinsurance': 1, 'WhatTheCostOfLongTermCareInsurance': 1, '752homeinsurance': 1, '康涅狄格州': 1, 'HowMuchHomeownersInsuranceDoINeedInConnecticut': 1, '753medicareinsurance': 1, '恢复': 1, 'DoesMedicareHaveEstateRecovery': 1, '754rentersinsurance': 1, 'WhatCompanyHasTheCheapestRentersInsuranceInPennsylvania': 1, '755lifeinsurance': 1, '剥夺': 1, 'WhyWouldSomeoneBeDeniedLifeInsurance': 1, '756annuitiesFAFSA': 1, 'DoesFAFSACountAnnuities': 1, '757healthinsurance': 1, 'HowToBuyMyOwnHealthInsurance': 1, '758autoinsurance': 1, 'CanIDeductAutoInsurancePremiums': 1, '759retirementplans401K': 1, '员工': 1, 'WhoIsAKeyEmployeeIn401K': 1, '760retirementplans': 1, '罗斯': 1, '撤出': 1, 'CanYouWithdrawFromARoth401KWithoutPenalty': 1, '761autoinsurance': 1, '进口': 1, 'WhyIsImportCarInsuranceMoreExpensive': 1, '762lifeinsurance': 1, '生病': 1, 'CanYouGetLifeInsuranceIfYouAreIll': 1, '763lifeinsurance': 1, 'WillLifeInsuranceKnowIfISmoke': 1, '764lifeinsurance': 1, '可靠': 1, 'WhoIsUninsurableForLifeInsurance': 1, '765annuities': 1, '好时机': 1, 'IsNowAGoodTimeToBuyAnnuities': 1, '766homeinsurance': 1, '住宅': 1, 'WhatIsTheDwellingAmountOnHomeInsurance': 1, '767rentersinsurance': 1, 'WhatRentersInsuranceShouldIGet': 1, '768lifeinsurance': 1, 'IsLifeInsuranceALegalRequirementForAMortgage': 1, '769medicareinsurance': 1, '字母': 1, 'T': 1, '号码': 1, '中是': 1, 'WhatDoesTheLetterTMeanInAMedicareNumber': 1, '770lifeinsurance': 1, '个': 1, '职业': 1, 'IsLifeInsuranceSalesAGoodCareer': 1, '771autoinsurance': 1, '住': 1, 'DoesWhereYouLiveAffectYourCarInsuranceRates': 1, '772retirementplans': 1, 'RothIRACanBothHusbandAndWifeHaveRothIRA': 1, '773healthinsurance': 1, '加拿大': 1, 'IsHealthInsuranceFreeInCanada': 1, '774autoinsurance': 1, '配偶': 1, 'DoesMySpouseHaveToBeOnMyAutoInsurance': 1, '775retirementplans': 1, 'RothIRAWhoShouldISetUpARothIRAWith': 1, '776lifeinsuranceGeico': 1, 'DoesGeicoOfferTermLifeInsurance': 1, '777lifeinsurance': 1, '创造': 1, 'WhatIsMeantByLifeInsuranceCreatesAnImmediateEstate': 1, '778healthinsurance': 1, '自雇': 1, 'WhatQualifiesAsSelfEmployedHealthInsurance': 1, '779healthinsurance': 1, 'HowMuchWillIBeFinedForNotHavingHealthInsurance': 1, '780homeinsurance': 1, 'WhatIsGoodHomeInsurance': 1, '781lifeinsurance': 1, 'WhatShouldTermLifeInsuranceCost': 1, '782medicareinsurance': 1, 'CanIEnrollInMedicarePartDAnytime': 1, '783lifeinsurance': 1, 'WhoShouldBeTheBeneficiaryOfMyLifeInsurance': 1, '784medicareinsurance': 1, '区域': 1, 'CWhatIsMedicareRegionC': 1, '785rentersinsurance': 1, 'DoesRentersInsuranceCoverTheftOfABike': 1, '786lifeinsurance': 1, 'WhatIsSelectTermLifeInsurance': 1, '787healthinsurance': 1, '人人': 1, 'DoesEveryoneHaveHealthInsuranceNow': 1, '788healthinsurance': 1, 'CanIBeOnMyBoyfriendsHealthInsurance': 1, '789healthinsurance': 1, 'DoesFullCoverageHealthInsuranceCover': 1, '790healthinsurance': 1, 'ObamacareHowDoIGetObamacare': 1, '791lifeinsurance': 1, '伊利诺斯': 1, 'DoYouNeedALicenseToSellLifeInsuranceInIllinois': 1, '792disabilityinsurance': 1, 'WhyIsLongTermDisabilityInsuranceImportant': 1, '793homeinsurance': 1, '地下': 1, 'DoesAnIngroundPoolIncreaseHomeownersInsurance': 1, '794homeinsurance': 1, '邻居': 1, '房子': 1, 'HowCanWeFindOutWhatInsuranceCompanyInsurancesMyNeighborsHouse': 1, '795lifeinsurance': 1, '1035': 1, 'CanYou1035FromLifeInsuranceToAnnuity': 1, '796longtermcareinsurance': 1, 'WhereShouldIBuyLongTermCareInsuranceInMichigan': 1, '797medicareinsurance2014': 1, 'WillMedicarePremiumsGoUpIn2014': 1, '798autoinsurance': 1, '州': 1, 'CanIHaveAutoInsuranceInAnotherstate': 1, '799lifeinsurance': 1, 'HowMuchShouldYouSpendOnLifeInsurance': 1, '800medicareinsurance': 1, '部': 1, '封盖': 1, 'CymbaltaDoesMedicarePartDCoverCymbalta': 1, '801disabilityinsurance': 1, 'HowDoIGetShortTermDisabilityInsurance': 1, '802lifeinsurance': 1, 'HowMuchDoLifeInsuranceAgentsMakeInIllinois': 1, '803medicareinsurance': 1, 'DoesMedicareCoverHepatitisCScreening': 1, '804annuities': 1, '调整': 1, 'WhoRegulatesVariableAnnuities': 1, '805annuities': 1, '寿命': 1, 'WhoOffersPurchasedLifeAnnuities': 1, '806criticalillnessinsurance': 1, 'WhyDoINeedCriticalIllnessInsurance': 1, '807autoinsuranceAARP': 1, 'DoesAARPHaveAutoInsurance': 1, '808autoinsurance': 1, '评分': 1, 'DoesGettingAutoInsuranceQuotesAffectYourCreditScore': 1, '809medicareinsurance': 1, '老人': 1, 'DoesMedicareCoverInHomeCareForTheElderly': 1, '810lifeinsurance': 1, '两大': 1, 'WhatAreTheTwoBasicTypesOfLifeInsurancePolicies': 1, '811lifeinsurance': 1, '哪': 1, '一类': 1, '派息': 1, 'WhichTypeOfLifeInsurancePaysADividend': 1, '812rentersinsurance': 1, '局': 1, 'DoesFarmBureauOfferRentersInsurance': 1, '813autoinsurance': 1, 'WhyWouldMyAutoInsuranceGoUp': 1, '814healthinsurance': 1, 'CanAnEmployerCancelHealthInsurance': 1, '815healthinsurance': 1, '不会': 1, '因': 1, '而': 1, 'HowMuchWillYouBeFinedForNotHavingHealthInsurance': 1, '816autoinsurance': 1, '经典': 1, 'WhichIsTheBestClassicCarInsurance': 1, '817medicareinsuranceMedigap': 1, 'WhatAreTheBenefitsOfMedigap': 1, '818autoinsurance': 1, '网上': 1, '准确度': 1, 'HowAccurateAreOnlineAutoInsuranceQuotes': 1, '819lifeinsurance': 1, 'HowMuchLifeInsuranceShouldAHusbandHave': 1, '820disabilityinsurance': 1, 'DoesDisabilityInsuranceCoverAlcoholism': 1, '821annuities': 1, '田纳西州': 1, 'WhoCanSellAnnuitiesInTennessee': 1, '822healthinsurance': 1, '资格赛': 1, 'WhatQualifiesAsAQualifyingEventsForHealthInsurance': 1, '823lifeinsuranceEsurance': 1, 'DoesEsuranceOfferLifeInsurance': 1, '824healthinsurance': 1, '3': 1, 'HowMuchDoesHealthInsuranceForAFamilyOf3Cost': 1, '825disabilityinsurance': 1, 'WhenToBuyLongTermDisabilityInsurance': 1, '826healthinsurance': 1, '整容手术': 1, 'WhichPrivateHealthInsuranceCoversCosmeticSurgery': 1, '827homeinsurance': 1, 'WillHomeownersInsuranceCoverRoofDamage': 1, '828disabilityinsurance': 1, 'WhereToBuyIndividualDisabilityInsurance': 1, '829retirementplans': 1, 'IRA': 1, 'CanIContributeToAnIRAIfIParticipateInARetirementPlanAtWork': 1, '830lifeinsurance': 1, '国税局': 1, '挽救': 1, 'CanTheIRSSeizeLifeInsuranceBenefits': 1, '831lifeinsurance': 1, 'CanYouTakeALoanFromLifeInsurance': 1, '832rentersinsurance': 1, 'WhyDoesMyLandlordWantMeToGetRentersInsurance': 1, '833medicareinsurance': 1, 'WillMedicarePayForAnyDentalWork': 1, '834homeinsurance': 1, 'WhatIsGuaranteedReplacementCostInHomeownersInsurance': 1, '835autoinsurance': 1, 'HowSoonDoesCarInsuranceStart': 1, '836autoinsurance': 1, 'HowToChooseTheBestAutoInsurance': 1, '837longtermcareinsurance': 1, 'WhoSellsLongTermCareInsurance': 1, '838medicareinsurance': 1, '艾滋病毒': 1, 'DoesMedicareCoverHIVDrugs': 1, '839healthinsurance': 1, '失效': 1, 'WhatIsConsideredALapseInHealthInsurance': 1, '840autoinsurance': 1, 'WhatInformationDoINeedToGetCarInsurance': 1, '841medicareinsurance': 1, 'WhatIsBestMedigapOrMedicareAdvantage': 1, '842healthinsurance': 1, 'IsItCheaperToBuyMyOwnHealthInsurance': 1, '843medicareinsurance': 1, '折射': 1, 'IsRefractionCoveredByMedicare': 1, '844lifeinsurance': 1, '全球': 1, 'HowGoodIsGlobalLifeInsurance': 1, '845healthinsurance': 1, '现有': 1, 'CanIBuyHealthInsuranceWithAPreExistingCondition': 1, '846rentersinsurance': 1, '马萨诸塞州': 1, 'HowMuchDoesRentersInsuranceCostInMassachusetts': 1, '847healthinsurance': 1, '流感疫苗': 1, 'DoesHealthInsuranceCoverTheFluVaccine': 1, '848lifeinsurance': 1, '我能': 1, '救': 1, 'CanISueMyLifeInsuranceCompany': 1, '849homeinsurance': 1, '浴室': 1, '里': 1, 'DoesHomeownersInsuranceCoverWaterDamageInBathroom': 1, '850annuities': 1, '金有': 1, 'HowGoodAreFixedAnnuities': 1, '851lifeinsurance': 1, 'CanLifeInsuranceBeTakenByCreditors': 1, '852medicareinsurance': 1, 'MedicareAHowToSignUpForMedicareA': 1, '853medicareinsurance': 1, '罗德岛': 1, 'WhatAreTheQualificationsForMedicareInRhodeIsland': 1, '854retirementplans': 1, 'HowMuchCanIPutInARetirementPlan': 1, '855annuities': 1, '错误': 1, 'WhatIsWrongWithAnnuities': 1, '856rentersinsurance': 1, '爱荷华州': 1, 'WhatDoesRentersInsuranceCoverInIowa': 1, '857autoinsurance': 1, 'CanIDriveMyParentsCarWithTheirInsurance': 1, '858annuities': 1, 'HowDoYouBuyAnnuities': 1, '859longtermcareinsurance': 1, 'CanIQualifyForLongTermCareInsurance': 1, '860homeinsurance': 1, '爆管': 1, 'DoesHomeownersInsuranceCoverABurstPipe': 1, '861retirementplans401K': 1, 'HowDoesA401KWorkIfYouQuit': 1, '862lifeinsurance': 1, '狼疮': 1, 'CanIGetLifeInsuranceIfIHaveLupus': 1, '863annuities': 1, '丢钱': 1, 'CanAnnuitiesLoseMoney': 1, '864lifeinsurance': 1, 'HowIsLifeInsuranceAnAsset': 1, '865homeinsurance': 1, '水面': 1, 'WillHomeownersInsuranceCoverWaterDamageFromARoofLeak': 1, '866medicareinsurance': 1, 'MedigapWhenCanISwitchFromMedicareAdvantageToMedigap': 1, '867lifeinsurance': 1, '罚则': 1, 'WhatIsThePenaltyForCashingOutALifeInsurancePolicy': 1, '868healthinsurance': 1, '高免': 1, 'HowMuchDoesHighDeductibleHealthInsuranceCost': 1, '869longtermcareinsurance': 1, 'CanIDeductPremiumsForLongTermCareInsurance': 1, '870disabilityinsurance': 1, 'ShouldIDoLongTermDisabilityInsurance': 1, '871homeinsurance': 1, 'WhatAffectsHomeownersInsuranceRates': 1, '872homeinsurance': 1, 'DoesHomeInsuranceCoverALeakingRoof': 1, '873longtermcareinsurance': 1, 'HowManyYearsOfLongTermCareInsuranceDoINeed': 1, '874homeinsurance': 1, '托管': 1, 'HowDoesHomeownersInsuranceEscrowWork': 1, '875lifeinsurance': 1, '征收': 1, 'HowAreLifeInsuranceProceedsTaxedAtDeath': 1, '876disabilityinsurance': 1, 'HowDoesPrivateDisabilityInsuranceAffectSocialSecurityDisability': 1, '877disabilityinsurance': 1, 'WhoProvidesDisabilityInsurance': 1, '878medicareinsurance': 1, '实验室': 1, 'DoesMedicarePartBCoverLabWork': 1, '879longtermcareinsurance': 1, 'WhatAreTheBestLongTermCareInsuranceCompanies': 1, '880retirementplans': 1, '利润': 1, '分享': 1, 'IsProfitSharingARetirementPlan': 1, '881medicareinsurance': 1, '一年': 1, 'HowMuchDoesMedicareCostAYear': 1, '882rentersinsurance': 1, 'DoesRentersInsuranceCoverCellPhoneDamage': 1, '883medicareinsurance': 1, '华盛顿': 1, 'WhatAreTheQualificationsForMedicareInWashington': 1, '884autoinsurance19': 1, 'HowMuchWillCarInsuranceCostForA19YearOld': 1, '885longtermcareinsurance': 1, 'CanLongTermCareInsuranceBeFixed': 1, '886healthinsurance': 1, '免': 1, 'WhatIsADeductibleForHealthInsurance': 1, '887autoinsurance': 1, '堆': 1, 'WhatIsAutoInsuranceStacking': 1, '888rentersinsurance': 1, '子': 1, '列表': 1, 'DoesRentersInsuranceCoverSubletters': 1, '889otherinsurance': 1, '旅行': 1, '值钱': 1, 'Istravelinsuranceworththemoney': 1, '890homeinsurance': 1, '受': 1, '湿': 1, '腐蚀': 1, 'IsWetRotCoveredByHomeInsurance': 1, '891autoinsurance': 1, 'MA': 1, 'HowMuchIsCarInsuranceInMA': 1, '892autoinsurance': 1, '姓名': 1, 'CanCarInsuranceBeInYourParentsName': 1, '893rentersinsurance': 1, '洪灾': 1, 'WillRentersInsuranceCoverFloodDamage': 1, '894longtermcareinsurance': 1, 'CanLongTermCareInsurancePremiumsIncrease': 1, '895homeinsurance': 1, 'WhenShouldHomeownersInsuranceStart': 1, '896medicareinsurance': 1, 'WhenCanIBuyAMedigapPolicy': 1, '897healthinsurance': 1, 'WhenDoesHealthInsuranceCoverATummyTuck': 1, '898criticalillnessinsuranceAflac': 1, 'WhatDoesAflacCancerInsurancePay': 1, '899medicareinsurance': 1, '供应商': 1, 'HowToCheckMedicareEligibilityForProviders': 1, '900autoinsuranceUMPD': 1, 'DoesUMPDCoverDamageToAStolenAutoWithLiabilityOnlyCoverage': 1, '901longtermcareinsuranceGenworth': 1, 'WhatDoesGenworthLongTermCareInsuranceCover': 1, '902disabilityinsurance': 1, '定义': 1, 'WhatIsTheDefinitionOfDisabilityInsurance': 1, '903homeinsurance': 1, '电涌': 1, 'DoesHomeownersInsuranceCoverElectricalSurges': 1, '904criticalillnessinsurance': 1, '关节炎': 1, 'DoesCriticalIllnessInsuranceCoverArthritis': 1, '905healthinsurance': 1, '企业家': 1, 'HowDoEntrepreneursGetHealthInsurance': 1, '906disabilityinsurance': 1, 'WhichDisabilityInsuranceIsBest': 1, '907medicareinsurance': 1, '地': 1, '帮助': 1, 'IsMedicareUsedEffectivelyToAssistAmericans': 1, '908lifeinsurance': 1, 'WhatIsAChildRiderOnTermLifeInsurance': 1, '909lifeinsurance': 1, '第一': 1, 'WhatIsTheNumberOneLifeInsuranceCompany': 1, '910retirementplans': 1, 'WhatDoesARetirementPlanDo': 1, '911autoinsuranceGrange': 1, 'DoesGrangeAutoInsuranceCoverRentalCars': 1, '912lifeinsurance': 1, 'CanYouBuyLifeInsuranceOnlineWithNoExam': 1, '913homeinsurance': 1, 'WhatToDoWhenHomeInsuranceDropsYou': 1, '914medicareinsurance': 1, '输血': 1, 'WillMedicarePayForBloodTransfusions': 1, '915healthinsurance': 1, '免于': 1, 'WhoIsExemptFromBuyingHealthInsurance': 1, '916medicareinsurance': 1, 'HowMuchIsMedicarePartBCopay': 1, '917criticalillnessinsurance': 1, 'WhatAreTheBenefitsOfCriticalIllnessInsurance': 1, '918autoinsurance': 1, '一家': 1, 'CanIOpenACarInsuranceCompany': 1, '919lifeinsurance': 1, 'IsLifeInsuranceEssential': 1, '920lifeinsurance': 1, '单方面': 1, '合同': 1, 'WhyIsLifeInsuranceAUnilateralContract': 1, '921medicareinsurance': 1, '储备': 1, '天': 1, 'WhatAreMedicareLifetimeReserveDays': 1, '922rentersinsurance': 1, 'DoesRentersInsuranceCoverVehicleDamage': 1, '923medicareinsurance': 1, 'WhatIsTheBestMedigapInsurance': 1, '924healthinsurance': 1, '裁决': 1, 'WhatIsAdjudicationInHealthInsurance': 1, '925lifeinsurance': 1, '补助': 1, 'IsLifeInsuranceConsideredAnAssetForMedicaid': 1, '926disabilityinsurance': 1, 'HowMuchDisabilityInsuranceDoYouNeed': 1, '927autoinsurance': 1, 'HowMuchIsFullCoverageCarInsuranceForANewCar': 1, '928lifeinsurance': 1, '特拉华州': 1, 'WhatIsTheBestLifeInsuranceInDelaware': 1, '929autoinsurance': 1, 'CanAutoInsuranceCompaniesDropYou': 1, '930medicareinsurance': 1, 'MedigapWhatIsCoveredUnderMedigap': 1, '931autoinsurance': 1, 'DoesLibertyMutualCoverCarRentalInsurance': 1, '932lifeinsurance': 1, '要花': 1, 'HowLongDoesItTakeToReceiveACheckFromLifeInsurance': 1, '933disabilityinsuranceVA': 1, 'DoesTheVAOfferDisabilityInsurance': 1, '934rentersinsurance': 1, 'HowMuchIsBasicRentersInsurance': 1, '935healthinsuranceAetna': 1, '学生': 1, 'WhatDoesAetnaStudentHealthInsuranceCover': 1, '936lifeinsurance': 1, '快速': 1, '发放': 1, 'HowQuicklyIsLifeInsurancePaidOut': 1, '937healthinsurance': 1, 'WhoMustPurchaseHealthInsurance': 1, '938disabilityinsurance': 1, 'IsDisabilityInsuranceAGoodIdea': 1, '939homeinsurance': 1, 'DoesHomeInsuranceIncreaseWithAPool': 1, '940lifeinsurance': 1, 'WhatIsThePrimaryPurposeOfAnIrrevocableLifeInsuranceTrust': 1, '941healthinsurance': 1, '尿': 1, '分析': 1, 'HowMuchDoesAUrinalysisCostWithoutHealthInsurance': 1, '942autoinsurance': 1, '属于': 1, 'CanIGetInsuranceOnACarThatDoesNotBelongToMe': 1, '943lifeinsurance': 1, '富国银行': 1, 'DoesWellsFargoOfferLifeInsurance': 1, '944retirementplans': 1, 'CanThereBeTooMuchChoiceInARetirementSavingsPlan': 1, '945medicareinsurance': 1, 'MedigapWhyDoINeedMedigap': 1, '946lifeinsurance': 1, 'DoesLifeInsuranceReallyWork': 1, '947lifeinsurance': 1, 'WhatDoesWholeLifeMeanInInsurance': 1, '948annuities': 1, '赚钱': 1, 'HowDoAnnuityCompaniesMakeMoney': 1, '949autoinsurance': 1, 'WhatsTheCheapestCarInsurance': 1, '950autoinsurance': 1, 'IsCarInsuranceFederalLaw': 1, '951lifeinsurance': 1, 'HowLongDoesItTakeForLifeInsuranceToPay': 1, '952homeinsurance': 1, 'DoesHomeownersInsuranceCoverLossOfUse': 1, '953medicareinsurance': 1, 'HIC': 1, '代表': 1, 'WhatDoesMedicareHICStandFor': 1, '954lifeinsurance': 1, 'WhyIsWholeLifeInsuranceAGoodInvestment': 1, '955homeinsurance': 1, '电力': 1, '浪潮': 1, 'DoesHomeownersInsuranceCoverPowerSurges': 1, '956healthinsurance': 1, 'WhatIsGroupHealthInsurance': 1, '957annuities': 1, '利率': 1, 'WillAnnuityRatesGoUp': 1, '958healthinsurance': 1, 'WhenCanYouEnrollInHealthInsurance': 1, '959rentersinsurance': 1, '租人': 1, 'RentersInsuranceIsItRequired': 1, '960annuities': 1, '递延': 1, 'WhatIsDeferredAnnuities': 1, '961annuities': 1, 'HowAreQualifiedAnnuitiesTaxed': 1, '962lifeinsurance': 1, 'WhoCanBeCoveredByLifeInsurance': 1, '963autoinsurance': 1, '修车': 1, 'CanIKeepInsuranceMoneyAndNotFixMyCar': 1, '964autoinsurance': 1, 'WhatWillInsurancePayIfMyCarIsStolen': 1, '965criticalillnessinsurance': 1, 'WhyDoWeNeedCriticalIllnessInsurance': 1, '966autoinsurance': 1, '开启': 1, 'WhenDidMandatoryAutoInsuranceStart': 1, '967lifeinsurance': 1, '国营农场': 1, 'DoesStateFarmHaveTermLifeInsurance': 1, '968homeinsurance': 1, '典型': 1, 'HowMuchIsATypicalHomeownersInsurance': 1, '969healthinsurance': 1, '海外': 1, 'DoesUSHealthInsuranceWorkOverseas': 1, '970homeinsurance': 1, 'WhatIsTheBestRatedHomeownersInsurance': 1, '971lifeinsurance': 1, '少年': 1, 'WhatIsJuvenileWholeLifeInsurance': 1, '972homeinsurance': 1, '中要': 1, 'WhatToLookForInHomeownersInsurance': 1, '973autoinsurance': 1, 'Sr22': 1, 'CanIGetSr22InsuranceWithoutOwningACar': 1, '974lifeinsurance': 1, '社区': 1, 'IsLifeInsuranceCommunityProperty': 1, '975lifeinsurance': 1, '西南': 1, 'WhoOwnsSouthwesternLife': 1, '976autoinsurance': 1, 'HowMuchAreCarInsurancePayments': 1, '977homeinsurance': 1, 'WhatDoINeedToKnowToGetHomeownersInsurance': 1, '978autoinsurance': 1, '破裂': 1, '挡风玻璃': 1, 'DoesAutoInsuranceCoverACrackedWindshield': 1, '979lifeinsurance': 1, '北达科他州': 1, '管理': 1, 'WhoRegulatesLifeInsuranceInNorthDakota': 1, '980healthinsurance': 1, '继续': 1, 'CanYouStayOnParentsHealthInsuranceIfMarried': 1, '981retirementplans': 1, 'DoesACompanyHaveToOfferARetirementPlan': 1, '982rentersinsurance': 1, '房产': 1, 'DoesRentersInsuranceCoverDamageToTheProperty': 1, '983lifeinsurance': 1, 'DoINeedLifeInsuranceWhenIAmRetired': 1, '984lifeinsurance': 1, '群变': 1, 'HowDoesGroupVariableLifeInsuranceWork': 1, '985medicareinsurance': 1, 'WhyChooseMedigapOrMedicareAdvantage': 1, '986healthinsurance': 1, 'HowMuchIsHealthInsuranceForTwoPeople': 1, '987lifeinsurance': 1, 'HowToSellLifeInsuranceOnline': 1, '988lifeinsurance': 1, 'CanIGetALifeInsuranceQuoteOnline': 1, '989lifeinsurance': 1, '人死': 1, '长时间': 1, 'LongDoesTakeGetLifeInsuranceAfterSomeoneDies': 1, '990lifeinsurance': 1, '借钱': 1, 'CanYouBorrowFromYourWholeLifeInsurancePolicy': 1, '991lifeinsurance': 1, 'WhatIsTheDifferenceBetweenLifeInsuranceAndHealthInsurance': 1, '992medicareinsurance': 1, 'HowToSignUpForMedicarePartBOnline': 1, '993lifeinsuranceADD': 1, '有何': 1, 'HowIsADDDifferentFromLifeInsurance': 1, '994healthinsurance': 1, 'ED': 1, 'DoesHealthInsuranceCoverEDDrugs': 1, '995medicareinsurance': 1, '总结': 1, 'WhoReceivesAMedicareSummaryNotice': 1, '996medicareinsurance': 1, '付款人': 1, 'WhenIsMedicarePrimaryPayer': 1, '997medicareinsurance': 1, 'HowMuchDoesMedicarePayDoctors': 1, '998medicareinsurance': 1, '适合': 1, 'WhenIsOneEligibleForMedicareAtWhatAge': 1, '999lifeinsurance': 1, '过期': 1, 'DoesUniversalLifeInsurancePolicyExpire': 1, '1000autoinsurance': 1, '格鲁吉亚': 1, 'WhatIsTheCheapestCarInsuranceInGeorgia': 1})\n"
     ]
    }
   ],
   "source": [
    "#将清除特殊字符后的列表内容写进新文件中并分词\n",
    "\n",
    "with open('train_new.txt', 'w') as f:\n",
    "    for a in content_clean:\n",
    "        f.write(a + '\\n')#分行写入\n",
    "TOKEN = []\n",
    "for i, line in enumerate((open('train_new.txt'))):\n",
    "    if i % 100 == 0: print(i)    \n",
    "    if i > 1000: break    \n",
    "    TOKEN += cut(line)#对新文件中的每一行进行分词\n",
    "words_count = Counter(TOKEN)\n",
    "frequiences=[f for w,f in words_count.most_common(100)]\n",
    "print(words_count)"
   ]
  },
  {
   "cell_type": "code",
   "execution_count": 8,
   "metadata": {},
   "outputs": [
    {
     "data": {
      "text/plain": [
       "23"
      ]
     },
     "execution_count": 8,
     "metadata": {},
     "output_type": "execute_result"
    }
   ],
   "source": [
    "#连续执行同一功能\n",
    "\n",
    "from functools import reduce#连续执行\n",
    "from operator import add, mul#operator为运算符模块\n",
    "reduce(add, [1, 2, 3, 4, 5, 8])#连续执行add功能"
   ]
  },
  {
   "cell_type": "code",
   "execution_count": 9,
   "metadata": {
    "scrolled": true
   },
   "outputs": [
    {
     "data": {
      "text/plain": [
       "[<matplotlib.lines.Line2D at 0x18b557c8>]"
      ]
     },
     "execution_count": 9,
     "metadata": {},
     "output_type": "execute_result"
    },
    {
     "data": {
      "image/png": "[encoded data removed]",
      "text/plain": [
       "<Figure size 432x288 with 1 Axes>"
      ]
     },
     "metadata": {
      "needs_background": "light"
     },
     "output_type": "display_data"
    }
   ],
   "source": [
    "#绘图1\n",
    "\n",
    "%matplotlib inline\n",
    "\n",
    "x=[i for i in range(100)]\n",
    "import matplotlib.pyplot as plt\n",
    "plt.plot(x,frequiences)"
   ]
  },
  {
   "cell_type": "code",
   "execution_count": 10,
   "metadata": {},
   "outputs": [
    {
     "data": {
      "text/plain": [
       "[<matplotlib.lines.Line2D at 0x18bf0508>]"
      ]
     },
     "execution_count": 10,
     "metadata": {},
     "output_type": "execute_result"
    },
    {
     "data": {
      "image/png": "[encoded data removed]",
      "text/plain": [
       "<Figure size 432x288 with 1 Axes>"
      ]
     },
     "metadata": {
      "needs_background": "light"
     },
     "output_type": "display_data"
    }
   ],
   "source": [
    "#绘图2\n",
    "\n",
    "import numpy as np\n",
    "plt.plot(x,np.log(frequiences))#不输入底数默认以e为底，log10(frequience)就是以10为底"
   ]
  },
  {
   "cell_type": "code",
   "execution_count": 11,
   "metadata": {},
   "outputs": [],
   "source": [
    "#将词组两两组合生成新的列表\n",
    "\n",
    "TOKEN = [str(t) for t in TOKEN]\n",
    "TOKEN_2_GRAM = [''.join(TOKEN[i:i+2]) for i in range(len(TOKEN[:-2]))]\n",
    "#每两个连续的词组合成一个词\n",
    "#i从[0,2]、[1,3]、[2,4]...取到[441508,441511]，每两个词一组\n",
    "TOKEN_2_GRAM[:10]  #连续两个词组成的前十个小组合\n",
    "words_count_2 = Counter(TOKEN_2_GRAM)"
   ]
  },
  {
   "cell_type": "markdown",
   "metadata": {},
   "source": [
    "# 3、获取最优语句 "
   ]
  },
  {
   "cell_type": "code",
   "execution_count": 12,
   "metadata": {},
   "outputs": [
    {
     "name": "stdout",
     "output_type": "stream",
     "text": [
      "妈妈明年会买保险 is more possible\n",
      "---- 我今年1月需要买车险 with probility 2.1286512263402824e-30\n",
      "---- 妈妈明年会买保险 with probility 1.6547650495263087e-20\n",
      "李婷婷会开车 is more possible\n",
      "---- 李婷婷会开车 with probility 1.2863767136909423e-10\n",
      "---- 李婷婷不会开卡车 with probility 1.458989796516851e-15\n",
      "今晚我去找老同学 is more possible\n",
      "---- 今晚我去参加朋友聚会 with probility 1.8768104997519636e-25\n",
      "---- 今晚我去找老同学 with probility 1.6547650495263087e-20\n",
      "不会开车违反法律 is more possible\n",
      "---- 不会开车违反法律 with probility 1.458989796516851e-15\n",
      "---- 买车不符合法律要求 with probility 1.9857180594315702e-19\n"
     ]
    }
   ],
   "source": [
    "#求句子概率\n",
    "\n",
    "def prob_1(word):#求一个词的概率\n",
    "    return words_count[word] / len(TOKEN)#words_count是所有jieba切出来的词及其出现次数的统计，例  '人寿保险': 224\n",
    "\n",
    "def prob_2(word1, word2):#返回两个词连续发生概率\n",
    "    if word1 + word2 in words_count_2: \n",
    "        return words_count_2[word1+word2] / len(TOKEN_2_GRAM)\n",
    "    else:\n",
    "        return 1 / len(TOKEN_2_GRAM)\n",
    "    \n",
    "def get_probability(sentence):#返回一个句子的概率\n",
    "    words = cut(sentence)   #精确模式搜索 \n",
    "    sentence_pro = 1    \n",
    "    for i, word in enumerate(words[:-1]):\n",
    "        next_ = words[i+1]        \n",
    "        probability = prob_2(word, next_)  #获取相邻两个词同时发生概率      \n",
    "        sentence_pro *= probability    \n",
    "    return sentence_pro\n",
    "\n",
    "need_compared = [\n",
    "    \"我今年1月需要买车险 妈妈明年会买保险\",\n",
    "    \"李婷婷会开车 李婷婷不会开卡车\",\n",
    "    \"今晚我去参加朋友聚会 今晚我去找老同学\",\n",
    "    \"不会开车违反法律 买车不符合法律要求\"\n",
    "]\n",
    "\n",
    "for s in need_compared:\n",
    "    s1, s2 = s.split()\n",
    "    p1, p2 = get_probability(s1), get_probability(s2)\n",
    "    \n",
    "    better = s1 if p1 > p2 else s2\n",
    "    \n",
    "    print('{} is more possible'.format(better))\n",
    "    print('-'*4 + ' {} with probility {}'.format(s1, p1))\n",
    "    print('-'*4 + ' {} with probility {}'.format(s2, p2))"
   ]
  },
  {
   "cell_type": "code",
   "execution_count": 23,
   "metadata": {},
   "outputs": [
    {
     "data": {
      "text/plain": [
       "[['特朗普研发詹姆斯挖掘机轰炸伊朗', 1.8768104997519636e-25],\n",
       " ['特朗普引进唐国强纸尿裤制裁唐国强', 1.8768104997519636e-25],\n",
       " ['特朗普研发詹姆斯苏打水轰炸伊朗', 1.8768104997519636e-25],\n",
       " ['特朗普引进詹姆斯纸尿裤轰炸伊朗', 1.8768104997519636e-25],\n",
       " ['特朗普引进詹姆斯纸尿裤制裁佟大为', 2.1286512263402824e-30],\n",
       " ['特朗普购买詹姆斯苏打水制裁鲁哈尼', 2.1286512263402824e-30],\n",
       " ['特朗普研发佟大为纸尿裤制裁伊朗', 2.1286512263402824e-30],\n",
       " ['特朗普购买伊朗挖掘机制裁苏莱曼尼', 2.1286512263402824e-30],\n",
       " ['老美研发詹姆斯纸尿裤制裁鲁哈尼', 2.414285322891586e-35],\n",
       " ['老美购买伊朗苏打水轰炸鲁哈尼', 2.414285322891586e-35]]"
      ]
     },
     "execution_count": 23,
     "metadata": {},
     "output_type": "execute_result"
    }
   ],
   "source": [
    "def generate_best(gram=new_gram,target='war',n=20): \n",
    "    sentences = generate_n2(gram,target,n)\n",
    "    result = []\n",
    "    for sentence in sentences:\n",
    "        result.append([sentence, get_probability(sentence)])\n",
    "    result=sorted(result, key = lambda x:x[1],reverse=True)\n",
    "    return result[:10]\n",
    "generate_best()"
   ]
  },
  {
   "cell_type": "code",
   "execution_count": null,
   "metadata": {},
   "outputs": [],
   "source": []
  },
  {
   "cell_type": "code",
   "execution_count": null,
   "metadata": {},
   "outputs": [],
   "source": []
  },
  {
   "cell_type": "code",
   "execution_count": null,
   "metadata": {},
   "outputs": [],
   "source": []
  },
  {
   "cell_type": "code",
   "execution_count": null,
   "metadata": {},
   "outputs": [],
   "source": []
  }
 ],
 "metadata": {
  "kernelspec": {
   "display_name": "Python 3",
   "language": "python",
   "name": "python3"
  },
  "language_info": {
   "codemirror_mode": {
    "name": "ipython",
    "version": 3
   },
   "file_extension": ".py",
   "mimetype": "text/x-python",
   "name": "python",
   "nbconvert_exporter": "python",
   "pygments_lexer": "ipython3",
   "version": "3.7.4"
  }
 },
 "nbformat": 4,
 "nbformat_minor": 2
}
